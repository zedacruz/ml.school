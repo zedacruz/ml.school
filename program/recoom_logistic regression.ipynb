{
 "cells": [
  {
   "cell_type": "markdown",
   "metadata": {
    "application/vnd.databricks.v1+cell": {
     "cellMetadata": {},
     "inputWidgets": {},
     "nuid": "bfd7bbf7-096e-48ad-9b91-c8ae9e18724a",
     "showTitle": false,
     "title": ""
    }
   },
   "source": [
    "this multilogistic regression finds inspiration in <https://runawayhorse001.github.io/LearningApacheSpark/classification.html>\n",
    "\n",
    "begins at 11.2. Multinomial logistic regression\n",
    "\n",
    "<b> to do: create a pipeline => better for MLflow </b>"
   ]
  },
  {
   "cell_type": "code",
   "execution_count": 0,
   "metadata": {
    "application/vnd.databricks.v1+cell": {
     "cellMetadata": {
      "byteLimit": 2048000,
      "rowLimit": 10000
     },
     "inputWidgets": {},
     "nuid": "0a091cbf-20ce-4763-ac6e-28e285e7bb68",
     "showTitle": false,
     "title": ""
    }
   },
   "outputs": [
    {
     "output_type": "display_data",
     "data": {
      "text/html": [
       "<style scoped>\n",
       "  .ansiout {\n",
       "    display: block;\n",
       "    unicode-bidi: embed;\n",
       "    white-space: pre-wrap;\n",
       "    word-wrap: break-word;\n",
       "    word-break: break-all;\n",
       "    font-family: \"Menlo\", \"Monaco\", \"Consolas\", \"Ubuntu Mono\", \"Source Code Pro\", monospace;\n",
       "    font-size: 13px;\n",
       "    color: #555;\n",
       "    margin-left: 4px;\n",
       "    line-height: 19px;\n",
       "  }\n",
       "</style>\n",
       "<div class=\"ansiout\">Out[1]: sys.version_info(major=3, minor=8, micro=10, releaselevel=&#39;final&#39;, serial=0)</div>"
      ]
     },
     "metadata": {
      "application/vnd.databricks.v1+output": {
       "addedWidgets": {},
       "arguments": {},
       "data": "<div class=\"ansiout\">Out[1]: sys.version_info(major=3, minor=8, micro=10, releaselevel=&#39;final&#39;, serial=0)</div>",
       "datasetInfos": [],
       "metadata": {},
       "removedWidgets": [],
       "type": "html"
      }
     },
     "output_type": "display_data"
    }
   ],
   "source": [
    "import sys\n",
    "sys.version_info"
   ]
  },
  {
   "cell_type": "markdown",
   "metadata": {
    "application/vnd.databricks.v1+cell": {
     "cellMetadata": {},
     "inputWidgets": {},
     "nuid": "cb8684fb-99ee-46a5-9f56-6efb44d05a69",
     "showTitle": false,
     "title": ""
    }
   },
   "source": [
    "# Training the model"
   ]
  },
  {
   "cell_type": "code",
   "execution_count": 0,
   "metadata": {
    "application/vnd.databricks.v1+cell": {
     "cellMetadata": {
      "byteLimit": 2048000,
      "rowLimit": 10000
     },
     "inputWidgets": {},
     "nuid": "4958e8f2-e8c5-4491-9866-ff1882a4a37f",
     "showTitle": false,
     "title": ""
    }
   },
   "outputs": [
    {
     "output_type": "display_data",
     "data": {
      "text/html": [
       "<style scoped>\n",
       "  .ansiout {\n",
       "    display: block;\n",
       "    unicode-bidi: embed;\n",
       "    white-space: pre-wrap;\n",
       "    word-wrap: break-word;\n",
       "    word-break: break-all;\n",
       "    font-family: \"Menlo\", \"Monaco\", \"Consolas\", \"Ubuntu Mono\", \"Source Code Pro\", monospace;\n",
       "    font-size: 13px;\n",
       "    color: #555;\n",
       "    margin-left: 4px;\n",
       "    line-height: 19px;\n",
       "  }\n",
       "</style>\n",
       "<div class=\"ansiout\"></div>"
      ]
     },
     "metadata": {
      "application/vnd.databricks.v1+output": {
       "addedWidgets": {},
       "arguments": {},
       "data": "<div class=\"ansiout\"></div>",
       "datasetInfos": [],
       "metadata": {},
       "removedWidgets": [],
       "type": "html"
      }
     },
     "output_type": "display_data"
    }
   ],
   "source": [
    "from pyspark.sql import SparkSession\n",
    "spark = SparkSession.builder.getOrCreate()\n",
    "from pyspark.dbutils import DBUtils\n",
    "import numpy as np\n",
    "import pandas as pd\n",
    "# enables use in dbutils\n",
    "dbutils = DBUtils(spark)\n",
    "# display datframes\n",
    "spark.conf.set(\"spark.sql.repl.eagerEval.enabled\", True)\n",
    "\n",
    "spark.conf.set(\"spark.databricks.io.cache.enabled\", True) # delta caching\n",
    "spark.conf.set(\"spark.sql.adaptive.skewJoin.enabled\", True) # adaptive query execution for skewed data\n",
    "spark.conf.set(\"spark.sql.autoBroadcastJoinThreshold\", 10485760) # setting treshhold on broadcasting \n",
    "spark.conf.set(\"spark.sql.execution.arrow.pyspark.enabled\", \"true\") # conversion between pyspark and pandas dataframe\n",
    "spark.conf.set(\"spark.databricks.optimizer.rangeJoin.binSize\", 1000) #range optimizer"
   ]
  },
  {
   "cell_type": "code",
   "execution_count": 0,
   "metadata": {
    "application/vnd.databricks.v1+cell": {
     "cellMetadata": {
      "byteLimit": 2048000,
      "rowLimit": 10000
     },
     "inputWidgets": {},
     "nuid": "3880bbd9-e585-4b19-8091-b22730b677ff",
     "showTitle": false,
     "title": ""
    }
   },
   "outputs": [
    {
     "output_type": "display_data",
     "data": {
      "text/html": [
       "<style scoped>\n",
       "  .ansiout {\n",
       "    display: block;\n",
       "    unicode-bidi: embed;\n",
       "    white-space: pre-wrap;\n",
       "    word-wrap: break-word;\n",
       "    word-break: break-all;\n",
       "    font-family: \"Menlo\", \"Monaco\", \"Consolas\", \"Ubuntu Mono\", \"Source Code Pro\", monospace;\n",
       "    font-size: 13px;\n",
       "    color: #555;\n",
       "    margin-left: 4px;\n",
       "    line-height: 19px;\n",
       "  }\n",
       "</style>\n",
       "<div class=\"ansiout\">Out[3]: 23096</div>"
      ]
     },
     "metadata": {
      "application/vnd.databricks.v1+output": {
       "addedWidgets": {},
       "arguments": {},
       "data": "<div class=\"ansiout\">Out[3]: 23096</div>",
       "datasetInfos": [],
       "metadata": {},
       "removedWidgets": [],
       "type": "html"
      }
     },
     "output_type": "display_data"
    }
   ],
   "source": [
    "#load in he necessary function\n",
    "from pyspark.sql.functions import isnan, when, count, col\n",
    "#data preprocessen \n",
    "df_train  = spark.read.format('delta').load(\n",
    " \"dbfs:/mnt/bastore/modelling/recommendations/data_for_model/train\")\n",
    "df_train.count()\n",
    "\n"
   ]
  },
  {
   "cell_type": "code",
   "execution_count": 0,
   "metadata": {
    "application/vnd.databricks.v1+cell": {
     "cellMetadata": {
      "byteLimit": 2048000,
      "rowLimit": 10000
     },
     "inputWidgets": {},
     "nuid": "c602f1d9-47aa-4e05-b5d2-97d8feb9f2a0",
     "showTitle": false,
     "title": ""
    }
   },
   "outputs": [
    {
     "output_type": "display_data",
     "data": {
      "text/html": [
       "<style scoped>\n",
       "  .ansiout {\n",
       "    display: block;\n",
       "    unicode-bidi: embed;\n",
       "    white-space: pre-wrap;\n",
       "    word-wrap: break-word;\n",
       "    word-break: break-all;\n",
       "    font-family: \"Menlo\", \"Monaco\", \"Consolas\", \"Ubuntu Mono\", \"Source Code Pro\", monospace;\n",
       "    font-size: 13px;\n",
       "    color: #555;\n",
       "    margin-left: 4px;\n",
       "    line-height: 19px;\n",
       "  }\n",
       "</style>\n",
       "<div class=\"ansiout\">Out[4]: </div>"
      ]
     },
     "metadata": {
      "application/vnd.databricks.v1+output": {
       "addedWidgets": {},
       "arguments": {},
       "data": "<div class=\"ansiout\">Out[4]: </div>",
       "datasetInfos": [],
       "metadata": {},
       "removedWidgets": [],
       "type": "html"
      }
     },
     "output_type": "display_data"
    },
    {
     "output_type": "display_data",
     "data": {
      "text/html": [
       "<table border='1'>\n",
       "<tr><th>service</th><th>count</th></tr>\n",
       "<tr><td>PAS</td><td>6089</td></tr>\n",
       "<tr><td>Freebook</td><td>1485</td></tr>\n",
       "<tr><td>Online</td><td>15522</td></tr>\n",
       "</table>\n"
      ]
     },
     "metadata": {
      "application/vnd.databricks.v1+output": {
       "addedWidgets": {},
       "arguments": {},
       "data": "<table border='1'>\n<tr><th>service</th><th>count</th></tr>\n<tr><td>PAS</td><td>6089</td></tr>\n<tr><td>Freebook</td><td>1485</td></tr>\n<tr><td>Online</td><td>15522</td></tr>\n</table>\n",
       "datasetInfos": [],
       "metadata": {},
       "removedWidgets": [],
       "textData": null,
       "type": "htmlSandbox"
      }
     },
     "output_type": "display_data"
    }
   ],
   "source": [
    "\n",
    "df_train = df_train.select(\"service\", \"Country\",\"Seniority_max\", \"Product_sum\", \"Upsell_avg\", \"SubBreak_sum\", \"Retention_sum\", \"RetIntention_sum\", \"Discount_sum\", \"Payments_sum\", \"Fline\", \"Hline\", \"ExHline\", \"ExFline\", \"Seniority_Hline\", \"Seniority_Fline\", \"Seniority_ExFline\", \"Seniority_ExHline\")\n",
    "# drop nan/null values\n",
    "\n",
    "df_train1 = df_train.na.drop(how=\"any\")\n",
    "\n",
    "df_train1.groupBy('service').count()"
   ]
  },
  {
   "cell_type": "code",
   "execution_count": 0,
   "metadata": {
    "application/vnd.databricks.v1+cell": {
     "cellMetadata": {
      "byteLimit": 2048000,
      "rowLimit": 10000
     },
     "inputWidgets": {},
     "nuid": "4b1f099e-06a9-4d78-8797-66a35dd1a356",
     "showTitle": false,
     "title": ""
    }
   },
   "outputs": [
    {
     "output_type": "display_data",
     "data": {
      "text/html": [
       "<style scoped>\n",
       "  .ansiout {\n",
       "    display: block;\n",
       "    unicode-bidi: embed;\n",
       "    white-space: pre-wrap;\n",
       "    word-wrap: break-word;\n",
       "    word-break: break-all;\n",
       "    font-family: \"Menlo\", \"Monaco\", \"Consolas\", \"Ubuntu Mono\", \"Source Code Pro\", monospace;\n",
       "    font-size: 13px;\n",
       "    color: #555;\n",
       "    margin-left: 4px;\n",
       "    line-height: 19px;\n",
       "  }\n",
       "</style>\n",
       "<div class=\"ansiout\"></div>"
      ]
     },
     "metadata": {
      "application/vnd.databricks.v1+output": {
       "addedWidgets": {},
       "arguments": {},
       "data": "<div class=\"ansiout\"></div>",
       "datasetInfos": [],
       "metadata": {},
       "removedWidgets": [],
       "type": "html"
      }
     },
     "output_type": "display_data"
    }
   ],
   "source": [
    "#create a balanced dataset\n",
    "newdata1 = df_train1.filter((df_train1.service == \"Online\")|(df_train1.service == \"Freebook\"))\n",
    "newdata2 = df_train1.filter((df_train1.service == \"PAS\") | (df_train1.service == \"Freebook\"))\n",
    "\n",
    "X1 = newdata1.drop(\"service\")\n",
    "Y1 = newdata1.select(\"service\")\n",
    "X2 = newdata2.drop(\"service\")\n",
    "Y2 = newdata2.select(\"service\")\n",
    "\n"
   ]
  },
  {
   "cell_type": "code",
   "execution_count": 0,
   "metadata": {
    "application/vnd.databricks.v1+cell": {
     "cellMetadata": {
      "byteLimit": 2048000,
      "rowLimit": 10000
     },
     "inputWidgets": {},
     "nuid": "011239bc-d396-4883-b6cd-a47d13986001",
     "showTitle": false,
     "title": ""
    }
   },
   "outputs": [
    {
     "output_type": "display_data",
     "data": {
      "text/html": [
       "<style scoped>\n",
       "  .ansiout {\n",
       "    display: block;\n",
       "    unicode-bidi: embed;\n",
       "    white-space: pre-wrap;\n",
       "    word-wrap: break-word;\n",
       "    word-break: break-all;\n",
       "    font-family: \"Menlo\", \"Monaco\", \"Consolas\", \"Ubuntu Mono\", \"Source Code Pro\", monospace;\n",
       "    font-size: 13px;\n",
       "    color: #555;\n",
       "    margin-left: 4px;\n",
       "    line-height: 19px;\n",
       "  }\n",
       "</style>\n",
       "<div class=\"ansiout\"></div>"
      ]
     },
     "metadata": {
      "application/vnd.databricks.v1+output": {
       "addedWidgets": {},
       "arguments": {},
       "data": "<div class=\"ansiout\"></div>",
       "datasetInfos": [],
       "metadata": {},
       "removedWidgets": [],
       "type": "html"
      }
     },
     "output_type": "display_data"
    }
   ],
   "source": [
    "# resample(newdata2, 1, \"service\", \"Freebook\")\n",
    "\n",
    "pos = newdata1.filter(col('service') == \"Freebook\")\n",
    "neg = newdata1.filter(col('service') != \"Freebook\")\n",
    "total_pos = pos.count()\n",
    "total_neg = neg.count()\n",
    "fraction=float(total_pos*1)/float(total_neg)\n",
    "# data_balanced_over1"
   ]
  },
  {
   "cell_type": "code",
   "execution_count": 0,
   "metadata": {
    "application/vnd.databricks.v1+cell": {
     "cellMetadata": {
      "byteLimit": 2048000,
      "rowLimit": 10000
     },
     "inputWidgets": {},
     "nuid": "fc52de4b-3287-41d4-9bc0-3c9261465b05",
     "showTitle": false,
     "title": ""
    }
   },
   "outputs": [
    {
     "output_type": "display_data",
     "data": {
      "text/html": [
       "<style scoped>\n",
       "  .ansiout {\n",
       "    display: block;\n",
       "    unicode-bidi: embed;\n",
       "    white-space: pre-wrap;\n",
       "    word-wrap: break-word;\n",
       "    word-break: break-all;\n",
       "    font-family: \"Menlo\", \"Monaco\", \"Consolas\", \"Ubuntu Mono\", \"Source Code Pro\", monospace;\n",
       "    font-size: 13px;\n",
       "    color: #555;\n",
       "    margin-left: 4px;\n",
       "    line-height: 19px;\n",
       "  }\n",
       "</style>\n",
       "<div class=\"ansiout\"></div>"
      ]
     },
     "metadata": {
      "application/vnd.databricks.v1+output": {
       "addedWidgets": {},
       "arguments": {},
       "data": "<div class=\"ansiout\"></div>",
       "datasetInfos": [],
       "metadata": {},
       "removedWidgets": [],
       "type": "html"
      }
     },
     "output_type": "display_data"
    }
   ],
   "source": [
    "from pyspark.sql.functions import col\n",
    "def resample(base_features,ratio,class_field,base_class):\n",
    "    pos = base_features.filter(col(class_field)==base_class)\n",
    "    neg = base_features.filter(col(class_field)!=base_class)\n",
    "    total_pos = pos.count()\n",
    "    total_neg = neg.count()\n",
    "    fraction=float(total_pos*ratio)/float(total_neg)\n",
    "    sampled = neg.sample(False,fraction)\n",
    "    return sampled.union(pos)\n",
    " \n",
    "data_balanced_over1 = resample(newdata1, 1, \"service\", \"Freebook\")\n",
    "data_balanced_over2 = resample(newdata2, 1, \"service\", \"Freebook\")\n",
    "\n",
    "newdata3 = data_balanced_over1.filter(col(\"service\") == \"Online\")\n",
    "\n",
    "Train = newdata3.union(data_balanced_over2)"
   ]
  },
  {
   "cell_type": "code",
   "execution_count": 0,
   "metadata": {
    "application/vnd.databricks.v1+cell": {
     "cellMetadata": {},
     "inputWidgets": {},
     "nuid": "ace2282f-2d75-489f-ab13-a1eca8fb14fc",
     "showTitle": false,
     "title": ""
    }
   },
   "outputs": [],
   "source": []
  },
  {
   "cell_type": "code",
   "execution_count": 0,
   "metadata": {
    "application/vnd.databricks.v1+cell": {
     "cellMetadata": {
      "byteLimit": 2048000,
      "rowLimit": 10000
     },
     "inputWidgets": {},
     "nuid": "efcdec8b-d2b2-48fe-bc17-2242156a97e8",
     "showTitle": false,
     "title": ""
    }
   },
   "outputs": [
    {
     "output_type": "display_data",
     "data": {
      "text/html": [
       "<style scoped>\n",
       "  .ansiout {\n",
       "    display: block;\n",
       "    unicode-bidi: embed;\n",
       "    white-space: pre-wrap;\n",
       "    word-wrap: break-word;\n",
       "    word-break: break-all;\n",
       "    font-family: \"Menlo\", \"Monaco\", \"Consolas\", \"Ubuntu Mono\", \"Source Code Pro\", monospace;\n",
       "    font-size: 13px;\n",
       "    color: #555;\n",
       "    margin-left: 4px;\n",
       "    line-height: 19px;\n",
       "  }\n",
       "</style>\n",
       "<div class=\"ansiout\"></div>"
      ]
     },
     "metadata": {
      "application/vnd.databricks.v1+output": {
       "addedWidgets": {},
       "arguments": {},
       "data": "<div class=\"ansiout\"></div>",
       "datasetInfos": [],
       "metadata": {},
       "removedWidgets": [],
       "type": "html"
      }
     },
     "output_type": "display_data"
    }
   ],
   "source": [
    "#index country\n",
    "from pyspark.ml.feature import IndexToString,StringIndexer, VectorIndexer\n",
    "\n",
    "\n",
    "featureIndexer = StringIndexer(inputCol=\"Country\", outputCol=\"CountryIndex\").fit(Train)\n",
    "\n",
    "Train1 = featureIndexer.transform(Train).drop('Country')"
   ]
  },
  {
   "cell_type": "markdown",
   "metadata": {
    "application/vnd.databricks.v1+cell": {
     "cellMetadata": {},
     "inputWidgets": {},
     "nuid": "c3a471ae-7a15-429d-8bb8-c6c36b8f6145",
     "showTitle": false,
     "title": ""
    }
   },
   "source": [
    "features need to be in a vector"
   ]
  },
  {
   "cell_type": "code",
   "execution_count": 0,
   "metadata": {
    "application/vnd.databricks.v1+cell": {
     "cellMetadata": {
      "byteLimit": 2048000,
      "rowLimit": 10000
     },
     "inputWidgets": {},
     "nuid": "fcaad749-0c74-497e-acb9-f037f6b1edd9",
     "showTitle": false,
     "title": ""
    }
   },
   "outputs": [
    {
     "output_type": "display_data",
     "data": {
      "text/html": [
       "<style scoped>\n",
       "  .ansiout {\n",
       "    display: block;\n",
       "    unicode-bidi: embed;\n",
       "    white-space: pre-wrap;\n",
       "    word-wrap: break-word;\n",
       "    word-break: break-all;\n",
       "    font-family: \"Menlo\", \"Monaco\", \"Consolas\", \"Ubuntu Mono\", \"Source Code Pro\", monospace;\n",
       "    font-size: 13px;\n",
       "    color: #555;\n",
       "    margin-left: 4px;\n",
       "    line-height: 19px;\n",
       "  }\n",
       "</style>\n",
       "<div class=\"ansiout\"></div>"
      ]
     },
     "metadata": {
      "application/vnd.databricks.v1+output": {
       "addedWidgets": {},
       "arguments": {},
       "data": "<div class=\"ansiout\"></div>",
       "datasetInfos": [],
       "metadata": {},
       "removedWidgets": [],
       "type": "html"
      }
     },
     "output_type": "display_data"
    }
   ],
   "source": [
    "#option 1 following website\n",
    "#transform dataset to dataframe\n",
    "from pyspark.ml.linalg import Vectors # !!!!caution: not from pyspark.mllib.linalg import Vectors\n",
    "from pyspark.ml import Pipeline\n",
    "from pyspark.ml.tuning import CrossValidator, ParamGridBuilder\n",
    "from pyspark.ml.evaluation import MulticlassClassificationEvaluator\n",
    "def transData(data): \n",
    "  return data.rdd.map(lambda r: [Vectors.dense(r[1:]),r[0]]).toDF(['features', 'label'])"
   ]
  },
  {
   "cell_type": "code",
   "execution_count": 0,
   "metadata": {
    "application/vnd.databricks.v1+cell": {
     "cellMetadata": {
      "byteLimit": 2048000,
      "rowLimit": 10000
     },
     "inputWidgets": {},
     "nuid": "1f481dc9-2988-4f6a-8667-975e93abcfcf",
     "showTitle": false,
     "title": ""
    }
   },
   "outputs": [
    {
     "output_type": "display_data",
     "data": {
      "text/html": [
       "<style scoped>\n",
       "  .ansiout {\n",
       "    display: block;\n",
       "    unicode-bidi: embed;\n",
       "    white-space: pre-wrap;\n",
       "    word-wrap: break-word;\n",
       "    word-break: break-all;\n",
       "    font-family: \"Menlo\", \"Monaco\", \"Consolas\", \"Ubuntu Mono\", \"Source Code Pro\", monospace;\n",
       "    font-size: 13px;\n",
       "    color: #555;\n",
       "    margin-left: 4px;\n",
       "    line-height: 19px;\n",
       "  }\n",
       "</style>\n",
       "<div class=\"ansiout\">+-------------------------------------------------------------------------+------+\n",
       "features                                                                 |label |\n",
       "+-------------------------------------------------------------------------+------+\n",
       "[15.0,1.0,0.0,1.0,0.0,0.0,0.0,134.0,1.0,0.0,0.0,0.0,0.0,15.0,0.0,0.0,1.0]|Online|\n",
       "[15.0,4.0,0.0,0.0,0.0,0.0,0.0,56.0,0.0,1.0,0.0,0.0,15.0,0.0,0.0,0.0,1.0] |Online|\n",
       "[15.0,3.0,0.0,1.0,0.0,2.0,0.0,119.0,0.0,1.0,0.0,0.0,15.0,0.0,0.0,0.0,1.0]|Online|\n",
       "[15.0,3.0,0.0,0.0,0.0,0.0,0.0,114.0,0.0,1.0,0.0,0.0,15.0,0.0,0.0,0.0,1.0]|Online|\n",
       "[15.0,3.0,0.0,0.0,0.0,1.0,0.0,138.0,0.0,1.0,0.0,0.0,15.0,0.0,0.0,0.0,0.0]|Online|\n",
       "[15.0,1.0,0.0,0.0,0.0,0.0,0.0,66.0,0.0,0.0,0.0,0.0,0.0,0.0,0.0,0.0,3.0]  |Online|\n",
       "[15.0,1.0,0.0,1.0,0.0,0.0,0.0,58.0,0.0,0.0,1.0,0.0,0.0,0.0,0.0,18.0,3.0] |Online|\n",
       "[15.0,3.0,0.0,0.0,0.0,0.0,0.0,143.0,0.0,1.0,0.0,0.0,15.0,0.0,0.0,0.0,3.0]|Online|\n",
       "[15.0,4.0,0.0,0.0,0.0,0.0,0.0,259.0,1.0,0.0,1.0,0.0,0.0,3.0,0.0,28.0,3.0]|Online|\n",
       "[15.0,3.0,0.0,1.0,0.0,1.0,0.0,137.0,0.0,1.0,0.0,0.0,15.0,0.0,0.0,0.0,0.0]|Online|\n",
       "+-------------------------------------------------------------------------+------+\n",
       "only showing top 10 rows\n",
       "\n",
       "</div>"
      ]
     },
     "metadata": {
      "application/vnd.databricks.v1+output": {
       "addedWidgets": {},
       "arguments": {},
       "data": "<div class=\"ansiout\">+-------------------------------------------------------------------------+------+\n|features                                                                 |label |\n+-------------------------------------------------------------------------+------+\n|[15.0,1.0,0.0,1.0,0.0,0.0,0.0,134.0,1.0,0.0,0.0,0.0,0.0,15.0,0.0,0.0,1.0]|Online|\n|[15.0,4.0,0.0,0.0,0.0,0.0,0.0,56.0,0.0,1.0,0.0,0.0,15.0,0.0,0.0,0.0,1.0] |Online|\n|[15.0,3.0,0.0,1.0,0.0,2.0,0.0,119.0,0.0,1.0,0.0,0.0,15.0,0.0,0.0,0.0,1.0]|Online|\n|[15.0,3.0,0.0,0.0,0.0,0.0,0.0,114.0,0.0,1.0,0.0,0.0,15.0,0.0,0.0,0.0,1.0]|Online|\n|[15.0,3.0,0.0,0.0,0.0,1.0,0.0,138.0,0.0,1.0,0.0,0.0,15.0,0.0,0.0,0.0,0.0]|Online|\n|[15.0,1.0,0.0,0.0,0.0,0.0,0.0,66.0,0.0,0.0,0.0,0.0,0.0,0.0,0.0,0.0,3.0]  |Online|\n|[15.0,1.0,0.0,1.0,0.0,0.0,0.0,58.0,0.0,0.0,1.0,0.0,0.0,0.0,0.0,18.0,3.0] |Online|\n|[15.0,3.0,0.0,0.0,0.0,0.0,0.0,143.0,0.0,1.0,0.0,0.0,15.0,0.0,0.0,0.0,3.0]|Online|\n|[15.0,4.0,0.0,0.0,0.0,0.0,0.0,259.0,1.0,0.0,1.0,0.0,0.0,3.0,0.0,28.0,3.0]|Online|\n|[15.0,3.0,0.0,1.0,0.0,1.0,0.0,137.0,0.0,1.0,0.0,0.0,15.0,0.0,0.0,0.0,0.0]|Online|\n+-------------------------------------------------------------------------+------+\nonly showing top 10 rows\n\n</div>",
       "datasetInfos": [],
       "metadata": {},
       "removedWidgets": [],
       "type": "html"
      }
     },
     "output_type": "display_data"
    }
   ],
   "source": [
    "Train2 =transData(Train1)\n",
    "Train2.select(\"features\", \"label\").show(10, False)"
   ]
  },
  {
   "cell_type": "code",
   "execution_count": 0,
   "metadata": {
    "application/vnd.databricks.v1+cell": {
     "cellMetadata": {
      "byteLimit": 2048000,
      "rowLimit": 10000
     },
     "inputWidgets": {},
     "nuid": "5d9df299-431e-4862-9ae5-e1e1a1aaac23",
     "showTitle": false,
     "title": ""
    }
   },
   "outputs": [
    {
     "output_type": "display_data",
     "data": {
      "text/html": [
       "<style scoped>\n",
       "  .ansiout {\n",
       "    display: block;\n",
       "    unicode-bidi: embed;\n",
       "    white-space: pre-wrap;\n",
       "    word-wrap: break-word;\n",
       "    word-break: break-all;\n",
       "    font-family: \"Menlo\", \"Monaco\", \"Consolas\", \"Ubuntu Mono\", \"Source Code Pro\", monospace;\n",
       "    font-size: 13px;\n",
       "    color: #555;\n",
       "    margin-left: 4px;\n",
       "    line-height: 19px;\n",
       "  }\n",
       "</style>\n",
       "<div class=\"ansiout\"></div>"
      ]
     },
     "metadata": {
      "application/vnd.databricks.v1+output": {
       "addedWidgets": {},
       "arguments": {},
       "data": "<div class=\"ansiout\"></div>",
       "datasetInfos": [],
       "metadata": {},
       "removedWidgets": [],
       "type": "html"
      }
     },
     "output_type": "display_data"
    }
   ],
   "source": [
    "from pyspark.ml.feature import StringIndexer\n",
    "labelIndexer = StringIndexer(inputCol='label',\n",
    "                             outputCol='indexedLabel').fit(Train2)\n",
    "Train3=labelIndexer.transform(Train2)\n",
    "\n"
   ]
  },
  {
   "cell_type": "code",
   "execution_count": 0,
   "metadata": {
    "application/vnd.databricks.v1+cell": {
     "cellMetadata": {
      "byteLimit": 2048000,
      "rowLimit": 10000
     },
     "inputWidgets": {},
     "nuid": "0f913054-d668-443a-a6b8-e35c67ef4877",
     "showTitle": false,
     "title": ""
    }
   },
   "outputs": [
    {
     "output_type": "display_data",
     "data": {
      "text/html": [
       "<style scoped>\n",
       "  .ansiout {\n",
       "    display: block;\n",
       "    unicode-bidi: embed;\n",
       "    white-space: pre-wrap;\n",
       "    word-wrap: break-word;\n",
       "    word-break: break-all;\n",
       "    font-family: \"Menlo\", \"Monaco\", \"Consolas\", \"Ubuntu Mono\", \"Source Code Pro\", monospace;\n",
       "    font-size: 13px;\n",
       "    color: #555;\n",
       "    margin-left: 4px;\n",
       "    line-height: 19px;\n",
       "  }\n",
       "</style>\n",
       "<div class=\"ansiout\"></div>"
      ]
     },
     "metadata": {
      "application/vnd.databricks.v1+output": {
       "addedWidgets": {},
       "arguments": {},
       "data": "<div class=\"ansiout\"></div>",
       "datasetInfos": [],
       "metadata": {},
       "removedWidgets": [],
       "type": "html"
      }
     },
     "output_type": "display_data"
    }
   ],
   "source": [
    "from pyspark.ml.classification import LogisticRegression\n",
    "import numpy as np\n",
    "from scipy.sparse import csr_matrix\n",
    "logr = LogisticRegression(featuresCol='features', labelCol='indexedLabel')"
   ]
  },
  {
   "cell_type": "code",
   "execution_count": 0,
   "metadata": {
    "application/vnd.databricks.v1+cell": {
     "cellMetadata": {
      "byteLimit": 2048000,
      "rowLimit": 10000
     },
     "inputWidgets": {},
     "nuid": "5eab7728-0da3-459a-841d-a4ea7b568a24",
     "showTitle": false,
     "title": ""
    }
   },
   "outputs": [
    {
     "output_type": "display_data",
     "data": {
      "text/html": [
       "<style scoped>\n",
       "  .ansiout {\n",
       "    display: block;\n",
       "    unicode-bidi: embed;\n",
       "    white-space: pre-wrap;\n",
       "    word-wrap: break-word;\n",
       "    word-break: break-all;\n",
       "    font-family: \"Menlo\", \"Monaco\", \"Consolas\", \"Ubuntu Mono\", \"Source Code Pro\", monospace;\n",
       "    font-size: 13px;\n",
       "    color: #555;\n",
       "    margin-left: 4px;\n",
       "    line-height: 19px;\n",
       "  }\n",
       "</style>\n",
       "<div class=\"ansiout\"></div>"
      ]
     },
     "metadata": {
      "application/vnd.databricks.v1+output": {
       "addedWidgets": {},
       "arguments": {},
       "data": "<div class=\"ansiout\"></div>",
       "datasetInfos": [],
       "metadata": {},
       "removedWidgets": [],
       "type": "html"
      }
     },
     "output_type": "display_data"
    }
   ],
   "source": [
    "# Convert indexed labels back to original labels.\n",
    "#labelConverter = IndexToString(inputCol=\"prediction\", #outputCol=\"predictedLabel\", labels=labelIndexer.labels)\n",
    "#Train4 = labelConverter.transform(Train3)\n",
    "#Train4.show()"
   ]
  },
  {
   "cell_type": "code",
   "execution_count": 0,
   "metadata": {
    "application/vnd.databricks.v1+cell": {
     "cellMetadata": {
      "byteLimit": 2048000,
      "rowLimit": 10000
     },
     "inputWidgets": {},
     "nuid": "35a99e18-239e-46ce-8307-26ac3d0c97f9",
     "showTitle": false,
     "title": ""
    }
   },
   "outputs": [
    {
     "output_type": "display_data",
     "data": {
      "text/html": [
       "<style scoped>\n",
       "  .ansiout {\n",
       "    display: block;\n",
       "    unicode-bidi: embed;\n",
       "    white-space: pre-wrap;\n",
       "    word-wrap: break-word;\n",
       "    word-break: break-all;\n",
       "    font-family: \"Menlo\", \"Monaco\", \"Consolas\", \"Ubuntu Mono\", \"Source Code Pro\", monospace;\n",
       "    font-size: 13px;\n",
       "    color: #555;\n",
       "    margin-left: 4px;\n",
       "    line-height: 19px;\n",
       "  }\n",
       "</style>\n",
       "<div class=\"ansiout\"></div>"
      ]
     },
     "metadata": {
      "application/vnd.databricks.v1+output": {
       "addedWidgets": {},
       "arguments": {},
       "data": "<div class=\"ansiout\"></div>",
       "datasetInfos": [],
       "metadata": {},
       "removedWidgets": [],
       "type": "html"
      }
     },
     "output_type": "display_data"
    }
   ],
   "source": [
    "model = logr.fit(Train3)"
   ]
  },
  {
   "cell_type": "code",
   "execution_count": 0,
   "metadata": {
    "application/vnd.databricks.v1+cell": {
     "cellMetadata": {
      "byteLimit": 2048000,
      "rowLimit": 10000
     },
     "inputWidgets": {},
     "nuid": "a656daf2-8b45-44e1-be6a-ffb8f2d2d35a",
     "showTitle": false,
     "title": ""
    }
   },
   "outputs": [
    {
     "output_type": "display_data",
     "data": {
      "text/html": [
       "<style scoped>\n",
       "  .ansiout {\n",
       "    display: block;\n",
       "    unicode-bidi: embed;\n",
       "    white-space: pre-wrap;\n",
       "    word-wrap: break-word;\n",
       "    word-break: break-all;\n",
       "    font-family: \"Menlo\", \"Monaco\", \"Consolas\", \"Ubuntu Mono\", \"Source Code Pro\", monospace;\n",
       "    font-size: 13px;\n",
       "    color: #555;\n",
       "    margin-left: 4px;\n",
       "    line-height: 19px;\n",
       "  }\n",
       "</style>\n",
       "<div class=\"ansiout\">Out[17]: &#39;labelCol: label column name. (default: label, current: indexedLabel)&#39;</div>"
      ]
     },
     "metadata": {
      "application/vnd.databricks.v1+output": {
       "addedWidgets": {},
       "arguments": {},
       "data": "<div class=\"ansiout\">Out[17]: &#39;labelCol: label column name. (default: label, current: indexedLabel)&#39;</div>",
       "datasetInfos": [],
       "metadata": {},
       "removedWidgets": [],
       "type": "html"
      }
     },
     "output_type": "display_data"
    }
   ],
   "source": [
    "model.explainParam('labelCol')"
   ]
  },
  {
   "cell_type": "markdown",
   "metadata": {
    "application/vnd.databricks.v1+cell": {
     "cellMetadata": {},
     "inputWidgets": {},
     "nuid": "495d8fc7-d35d-4da9-8cfb-46a0b61d9aeb",
     "showTitle": false,
     "title": ""
    }
   },
   "source": [
    "# model evaluation"
   ]
  },
  {
   "cell_type": "code",
   "execution_count": 0,
   "metadata": {
    "application/vnd.databricks.v1+cell": {
     "cellMetadata": {
      "byteLimit": 2048000,
      "rowLimit": 10000
     },
     "inputWidgets": {},
     "nuid": "e8288eec-25e6-4cb2-bc5a-5236435a3358",
     "showTitle": false,
     "title": ""
    }
   },
   "outputs": [
    {
     "output_type": "display_data",
     "data": {
      "text/html": [
       "<style scoped>\n",
       "  .ansiout {\n",
       "    display: block;\n",
       "    unicode-bidi: embed;\n",
       "    white-space: pre-wrap;\n",
       "    word-wrap: break-word;\n",
       "    word-break: break-all;\n",
       "    font-family: \"Menlo\", \"Monaco\", \"Consolas\", \"Ubuntu Mono\", \"Source Code Pro\", monospace;\n",
       "    font-size: 13px;\n",
       "    color: #555;\n",
       "    margin-left: 4px;\n",
       "    line-height: 19px;\n",
       "  }\n",
       "</style>\n",
       "<div class=\"ansiout\">DenseMatrix([[ 0.00000000e+00,  9.41704331e-02,  0.00000000e+00,\n",
       "              -7.91784436e-02, -3.27839677e-01, -1.45620671e-01,\n",
       "               1.42662330e-02, -6.97674492e-03, -2.07639801e-01,\n",
       "              -4.65710162e-01, -3.69343278e-01, -1.54162716e-01,\n",
       "              -2.99711357e-02,  1.12357490e-01, -2.04705657e-02,\n",
       "               2.86003146e-03,  2.11079215e-01],\n",
       "             [ 0.00000000e+00, -5.90462706e-02,  0.00000000e+00,\n",
       "               1.32468129e-01,  3.52697792e-01,  4.93188182e-02,\n",
       "              -2.44524917e-02,  5.52551118e-03, -6.67401061e-02,\n",
       "               1.12366716e+00,  3.75744742e-01,  3.74507266e-01,\n",
       "              -1.81333614e-02, -3.67828979e-02,  1.17396223e-02,\n",
       "               1.72343814e-04, -6.38191028e-01],\n",
       "             [ 0.00000000e+00, -3.51241626e-02,  0.00000000e+00,\n",
       "              -5.32896851e-02, -2.48581154e-02,  9.63018530e-02,\n",
       "               1.01862587e-02,  1.45123374e-03,  2.74379907e-01,\n",
       "              -6.57956997e-01, -6.40146344e-03, -2.20344551e-01,\n",
       "               4.81044971e-02, -7.55745926e-02,  8.73094336e-03,\n",
       "              -3.03237527e-03,  4.27111813e-01]])\n",
       "</div>"
      ]
     },
     "metadata": {
      "application/vnd.databricks.v1+output": {
       "addedWidgets": {},
       "arguments": {},
       "data": "<div class=\"ansiout\">DenseMatrix([[ 0.00000000e+00,  9.41704331e-02,  0.00000000e+00,\n              -7.91784436e-02, -3.27839677e-01, -1.45620671e-01,\n               1.42662330e-02, -6.97674492e-03, -2.07639801e-01,\n              -4.65710162e-01, -3.69343278e-01, -1.54162716e-01,\n              -2.99711357e-02,  1.12357490e-01, -2.04705657e-02,\n               2.86003146e-03,  2.11079215e-01],\n             [ 0.00000000e+00, -5.90462706e-02,  0.00000000e+00,\n               1.32468129e-01,  3.52697792e-01,  4.93188182e-02,\n              -2.44524917e-02,  5.52551118e-03, -6.67401061e-02,\n               1.12366716e+00,  3.75744742e-01,  3.74507266e-01,\n              -1.81333614e-02, -3.67828979e-02,  1.17396223e-02,\n               1.72343814e-04, -6.38191028e-01],\n             [ 0.00000000e+00, -3.51241626e-02,  0.00000000e+00,\n              -5.32896851e-02, -2.48581154e-02,  9.63018530e-02,\n               1.01862587e-02,  1.45123374e-03,  2.74379907e-01,\n              -6.57956997e-01, -6.40146344e-03, -2.20344551e-01,\n               4.81044971e-02, -7.55745926e-02,  8.73094336e-03,\n              -3.03237527e-03,  4.27111813e-01]])\n</div>",
       "datasetInfos": [],
       "metadata": {},
       "removedWidgets": [],
       "type": "html"
      }
     },
     "output_type": "display_data"
    }
   ],
   "source": [
    "print(model.coefficientMatrix)"
   ]
  },
  {
   "cell_type": "code",
   "execution_count": 0,
   "metadata": {
    "application/vnd.databricks.v1+cell": {
     "cellMetadata": {
      "byteLimit": 2048000,
      "rowLimit": 10000
     },
     "inputWidgets": {},
     "nuid": "b13981b2-de55-4182-a46b-2cdff4f7a52a",
     "showTitle": false,
     "title": ""
    }
   },
   "outputs": [
    {
     "output_type": "display_data",
     "data": {
      "text/html": [
       "<style scoped>\n",
       "  .ansiout {\n",
       "    display: block;\n",
       "    unicode-bidi: embed;\n",
       "    white-space: pre-wrap;\n",
       "    word-wrap: break-word;\n",
       "    word-break: break-all;\n",
       "    font-family: \"Menlo\", \"Monaco\", \"Consolas\", \"Ubuntu Mono\", \"Source Code Pro\", monospace;\n",
       "    font-size: 13px;\n",
       "    color: #555;\n",
       "    margin-left: 4px;\n",
       "    line-height: 19px;\n",
       "  }\n",
       "</style>\n",
       "<div class=\"ansiout\"></div>"
      ]
     },
     "metadata": {
      "application/vnd.databricks.v1+output": {
       "addedWidgets": {},
       "arguments": {},
       "data": "<div class=\"ansiout\"></div>",
       "datasetInfos": [],
       "metadata": {},
       "removedWidgets": [],
       "type": "html"
      }
     },
     "output_type": "display_data"
    }
   ],
   "source": [
    "trainingSummary = model.summary"
   ]
  },
  {
   "cell_type": "code",
   "execution_count": 0,
   "metadata": {
    "application/vnd.databricks.v1+cell": {
     "cellMetadata": {
      "byteLimit": 2048000,
      "rowLimit": 10000
     },
     "inputWidgets": {},
     "nuid": "8f0ae280-2c3b-4b51-94b7-f6f643040773",
     "showTitle": false,
     "title": ""
    }
   },
   "outputs": [
    {
     "output_type": "display_data",
     "data": {
      "text/html": [
       "<style scoped>\n",
       "  .ansiout {\n",
       "    display: block;\n",
       "    unicode-bidi: embed;\n",
       "    white-space: pre-wrap;\n",
       "    word-wrap: break-word;\n",
       "    word-break: break-all;\n",
       "    font-family: \"Menlo\", \"Monaco\", \"Consolas\", \"Ubuntu Mono\", \"Source Code Pro\", monospace;\n",
       "    font-size: 13px;\n",
       "    color: #555;\n",
       "    margin-left: 4px;\n",
       "    line-height: 19px;\n",
       "  }\n",
       "</style>\n",
       "<div class=\"ansiout\">False positive rate by label:\n",
       "label 0: 0.17882592466915506\n",
       "label 1: 0.23483827493261455\n",
       "label 2: 0.17352056168505517\n",
       "True positive rate by label:\n",
       "label 0: 0.5584329349269588\n",
       "label 1: 0.7872053872053872\n",
       "label 2: 0.478796169630643\n",
       "Precision by label:\n",
       "label 0: 0.6147660818713451\n",
       "label 1: 0.6264737406216506\n",
       "label 2: 0.5742411812961444\n",
       "Recall by label:\n",
       "label 0: 0.5584329349269588\n",
       "label 1: 0.7872053872053872\n",
       "label 2: 0.478796169630643\n",
       "F-measure by label:\n",
       "label 0: 0.5852470424495476\n",
       "label 1: 0.6977021784541928\n",
       "label 2: 0.5221932114882507\n",
       "</div>"
      ]
     },
     "metadata": {
      "application/vnd.databricks.v1+output": {
       "addedWidgets": {},
       "arguments": {},
       "data": "<div class=\"ansiout\">False positive rate by label:\nlabel 0: 0.17882592466915506\nlabel 1: 0.23483827493261455\nlabel 2: 0.17352056168505517\nTrue positive rate by label:\nlabel 0: 0.5584329349269588\nlabel 1: 0.7872053872053872\nlabel 2: 0.478796169630643\nPrecision by label:\nlabel 0: 0.6147660818713451\nlabel 1: 0.6264737406216506\nlabel 2: 0.5742411812961444\nRecall by label:\nlabel 0: 0.5584329349269588\nlabel 1: 0.7872053872053872\nlabel 2: 0.478796169630643\nF-measure by label:\nlabel 0: 0.5852470424495476\nlabel 1: 0.6977021784541928\nlabel 2: 0.5221932114882507\n</div>",
       "datasetInfos": [],
       "metadata": {},
       "removedWidgets": [],
       "type": "html"
      }
     },
     "output_type": "display_data"
    }
   ],
   "source": [
    "print(\"False positive rate by label:\")\n",
    "for i, rate in enumerate(trainingSummary.falsePositiveRateByLabel):\n",
    "    print(\"label %d: %s\" % (i, rate))\n",
    "\n",
    "print(\"True positive rate by label:\")\n",
    "for i, rate in enumerate(trainingSummary.truePositiveRateByLabel):\n",
    "    print(\"label %d: %s\" % (i, rate))\n",
    "\n",
    "print(\"Precision by label:\")\n",
    "for i, prec in enumerate(trainingSummary.precisionByLabel):\n",
    "    print(\"label %d: %s\" % (i, prec))\n",
    "\n",
    "print(\"Recall by label:\")\n",
    "for i, rec in enumerate(trainingSummary.recallByLabel):\n",
    "    print(\"label %d: %s\" % (i, rec))\n",
    "\n",
    "print(\"F-measure by label:\")\n",
    "for i, f in enumerate(trainingSummary.fMeasureByLabel()):\n",
    "    print(\"label %d: %s\" % (i, f))"
   ]
  },
  {
   "cell_type": "code",
   "execution_count": 0,
   "metadata": {
    "application/vnd.databricks.v1+cell": {
     "cellMetadata": {
      "byteLimit": 2048000,
      "rowLimit": 10000
     },
     "inputWidgets": {},
     "nuid": "4cbcf20e-cead-4645-938d-6dba6b8cec65",
     "showTitle": false,
     "title": ""
    }
   },
   "outputs": [
    {
     "output_type": "display_data",
     "data": {
      "text/html": [
       "<style scoped>\n",
       "  .ansiout {\n",
       "    display: block;\n",
       "    unicode-bidi: embed;\n",
       "    white-space: pre-wrap;\n",
       "    word-wrap: break-word;\n",
       "    word-break: break-all;\n",
       "    font-family: \"Menlo\", \"Monaco\", \"Consolas\", \"Ubuntu Mono\", \"Source Code Pro\", monospace;\n",
       "    font-size: 13px;\n",
       "    color: #555;\n",
       "    margin-left: 4px;\n",
       "    line-height: 19px;\n",
       "  }\n",
       "</style>\n",
       "<div class=\"ansiout\">Accuracy: 0.6085784864136538\n",
       "FPR: 0.1957632477004785\n",
       "TPR: 0.6085784864136536\n",
       "F-measure: 0.602047216736878\n",
       "Precision: 0.6053653337472176\n",
       "Recall: 0.6085784864136536\n",
       "</div>"
      ]
     },
     "metadata": {
      "application/vnd.databricks.v1+output": {
       "addedWidgets": {},
       "arguments": {},
       "data": "<div class=\"ansiout\">Accuracy: 0.6085784864136538\nFPR: 0.1957632477004785\nTPR: 0.6085784864136536\nF-measure: 0.602047216736878\nPrecision: 0.6053653337472176\nRecall: 0.6085784864136536\n</div>",
       "datasetInfos": [],
       "metadata": {},
       "removedWidgets": [],
       "type": "html"
      }
     },
     "output_type": "display_data"
    }
   ],
   "source": [
    "accuracy = trainingSummary.accuracy\n",
    "falsePositiveRate = trainingSummary.weightedFalsePositiveRate\n",
    "truePositiveRate = trainingSummary.weightedTruePositiveRate\n",
    "fMeasure = trainingSummary.weightedFMeasure()\n",
    "precision = trainingSummary.weightedPrecision\n",
    "recall = trainingSummary.weightedRecall\n",
    "print(\"Accuracy: %s\\nFPR: %s\\nTPR: %s\\nF-measure: %s\\nPrecision: %s\\nRecall: %s\"\n",
    "      % (accuracy, falsePositiveRate, truePositiveRate, fMeasure, precision, recall))"
   ]
  },
  {
   "cell_type": "code",
   "execution_count": 0,
   "metadata": {
    "application/vnd.databricks.v1+cell": {
     "cellMetadata": {
      "byteLimit": 2048000,
      "rowLimit": 10000
     },
     "inputWidgets": {},
     "nuid": "8dbbac0b-f212-4679-8f3f-7a49a28378c0",
     "showTitle": false,
     "title": ""
    }
   },
   "outputs": [
    {
     "output_type": "display_data",
     "data": {
      "text/html": [
       "<style scoped>\n",
       "  .ansiout {\n",
       "    display: block;\n",
       "    unicode-bidi: embed;\n",
       "    white-space: pre-wrap;\n",
       "    word-wrap: break-word;\n",
       "    word-break: break-all;\n",
       "    font-family: \"Menlo\", \"Monaco\", \"Consolas\", \"Ubuntu Mono\", \"Source Code Pro\", monospace;\n",
       "    font-size: 13px;\n",
       "    color: #555;\n",
       "    margin-left: 4px;\n",
       "    line-height: 19px;\n",
       "  }\n",
       "</style>\n",
       "<div class=\"ansiout\">+-------------------------------------------------------------------------+------+------------+---------------------------------------------------------------+------------------------------------------------------------+----------+--------------+\n",
       "features                                                                 |label |indexedLabel|rawPrediction                                                  |probability                                                 |prediction|predictedLabel|\n",
       "+-------------------------------------------------------------------------+------+------------+---------------------------------------------------------------+------------------------------------------------------------+----------+--------------+\n",
       "[15.0,1.0,0.0,1.0,0.0,0.0,0.0,134.0,1.0,0.0,0.0,0.0,0.0,15.0,0.0,0.0,1.0]|Online|0.0         |[1.8942204836165142,-1.0799867658734392,-0.8142337177430748]   |[0.8946723238168475,0.04570694625179002,0.05962072993136241]|0.0       |Online        |\n",
       "[15.0,4.0,0.0,0.0,0.0,0.0,0.0,56.0,0.0,1.0,0.0,0.0,15.0,0.0,0.0,0.0,1.0] |Online|0.0         |[0.40709657772869734,-0.35043326685200726,-0.05666331087669019]|[0.4767040431660043,0.22348985000341853,0.2998061068305771] |0.0       |Online        |\n",
       "[15.0,3.0,0.0,1.0,0.0,2.0,0.0,119.0,0.0,1.0,0.0,0.0,15.0,0.0,0.0,0.0,1.0]|Online|0.0         |[-0.49702857150230106,0.28782597342188987,0.20920259808041103] |[0.19162859061336956,0.4200667468192428,0.3883046625673877] |1.0       |Freebook      |\n",
       "[15.0,3.0,0.0,0.0,0.0,0.0,0.0,114.0,0.0,1.0,0.0,0.0,15.0,0.0,0.0,0.0,1.0]|Online|0.0         |[-0.09172506091303334,0.02909265234360603,0.06263240856942759] |[0.3034600075535396,0.3424300982751064,0.3541098941713541]  |2.0       |PAS           |\n",
       "[15.0,3.0,0.0,0.0,0.0,1.0,0.0,138.0,0.0,1.0,0.0,0.0,15.0,0.0,0.0,0.0,0.0]|Online|0.0         |[-0.6158668250746622,0.8492147669420864,-0.23334794186742447]  |[0.14719153609284713,0.6370297114665976,0.2157787524405553] |1.0       |Freebook      |\n",
       "+-------------------------------------------------------------------------+------+------------+---------------------------------------------------------------+------------------------------------------------------------+----------+--------------+\n",
       "only showing top 5 rows\n",
       "\n",
       "</div>"
      ]
     },
     "metadata": {
      "application/vnd.databricks.v1+output": {
       "addedWidgets": {},
       "arguments": {},
       "data": "<div class=\"ansiout\">+-------------------------------------------------------------------------+------+------------+---------------------------------------------------------------+------------------------------------------------------------+----------+--------------+\n|features                                                                 |label |indexedLabel|rawPrediction                                                  |probability                                                 |prediction|predictedLabel|\n+-------------------------------------------------------------------------+------+------------+---------------------------------------------------------------+------------------------------------------------------------+----------+--------------+\n|[15.0,1.0,0.0,1.0,0.0,0.0,0.0,134.0,1.0,0.0,0.0,0.0,0.0,15.0,0.0,0.0,1.0]|Online|0.0         |[1.8942204836165142,-1.0799867658734392,-0.8142337177430748]   |[0.8946723238168475,0.04570694625179002,0.05962072993136241]|0.0       |Online        |\n|[15.0,4.0,0.0,0.0,0.0,0.0,0.0,56.0,0.0,1.0,0.0,0.0,15.0,0.0,0.0,0.0,1.0] |Online|0.0         |[0.40709657772869734,-0.35043326685200726,-0.05666331087669019]|[0.4767040431660043,0.22348985000341853,0.2998061068305771] |0.0       |Online        |\n|[15.0,3.0,0.0,1.0,0.0,2.0,0.0,119.0,0.0,1.0,0.0,0.0,15.0,0.0,0.0,0.0,1.0]|Online|0.0         |[-0.49702857150230106,0.28782597342188987,0.20920259808041103] |[0.19162859061336956,0.4200667468192428,0.3883046625673877] |1.0       |Freebook      |\n|[15.0,3.0,0.0,0.0,0.0,0.0,0.0,114.0,0.0,1.0,0.0,0.0,15.0,0.0,0.0,0.0,1.0]|Online|0.0         |[-0.09172506091303334,0.02909265234360603,0.06263240856942759] |[0.3034600075535396,0.3424300982751064,0.3541098941713541]  |2.0       |PAS           |\n|[15.0,3.0,0.0,0.0,0.0,1.0,0.0,138.0,0.0,1.0,0.0,0.0,15.0,0.0,0.0,0.0,0.0]|Online|0.0         |[-0.6158668250746622,0.8492147669420864,-0.23334794186742447]  |[0.14719153609284713,0.6370297114665976,0.2157787524405553] |1.0       |Freebook      |\n+-------------------------------------------------------------------------+------+------------+---------------------------------------------------------------+------------------------------------------------------------+----------+--------------+\nonly showing top 5 rows\n\n</div>",
       "datasetInfos": [],
       "metadata": {},
       "removedWidgets": [],
       "type": "html"
      }
     },
     "output_type": "display_data"
    }
   ],
   "source": [
    "predictions = model.transform(Train3)\n",
    "# Convert indexed labels back to original labels.\n",
    "labelConverter = IndexToString(inputCol=\"prediction\", outputCol=\"predictedLabel\",\n",
    "                               labels=labelIndexer.labels)\n",
    "prediction = labelConverter.transform(predictions)\n",
    "prediction.show(5, False)"
   ]
  },
  {
   "cell_type": "code",
   "execution_count": 0,
   "metadata": {
    "application/vnd.databricks.v1+cell": {
     "cellMetadata": {
      "byteLimit": 2048000,
      "rowLimit": 10000
     },
     "inputWidgets": {},
     "nuid": "b37736ea-5c75-43ef-945b-d159b48147c8",
     "showTitle": false,
     "title": ""
    }
   },
   "outputs": [
    {
     "output_type": "display_data",
     "data": {
      "text/html": [
       "<style scoped>\n",
       "  .ansiout {\n",
       "    display: block;\n",
       "    unicode-bidi: embed;\n",
       "    white-space: pre-wrap;\n",
       "    word-wrap: break-word;\n",
       "    word-break: break-all;\n",
       "    font-family: \"Menlo\", \"Monaco\", \"Consolas\", \"Ubuntu Mono\", \"Source Code Pro\", monospace;\n",
       "    font-size: 13px;\n",
       "    color: #555;\n",
       "    margin-left: 4px;\n",
       "    line-height: 19px;\n",
       "  }\n",
       "</style>\n",
       "<div class=\"ansiout\"></div>"
      ]
     },
     "metadata": {
      "application/vnd.databricks.v1+output": {
       "addedWidgets": {},
       "arguments": {},
       "data": "<div class=\"ansiout\"></div>",
       "datasetInfos": [],
       "metadata": {},
       "removedWidgets": [],
       "type": "html"
      }
     },
     "output_type": "display_data"
    }
   ],
   "source": [
    "import matplotlib.pyplot as plt\n",
    "import numpy as np\n",
    "import itertools\n",
    "\n",
    "def plot_confusion_matrix(cm, classes,\n",
    "                          normalize=False,\n",
    "                          title='Confusion matrix',\n",
    "                          cmap=plt.cm.Blues):\n",
    "    \"\"\"\n",
    "    This function prints and plots the confusion matrix.\n",
    "    Normalization can be applied by setting `normalize=True`.\n",
    "    \"\"\"\n",
    "    if normalize:\n",
    "        cm = cm.astype('float') / cm.sum(axis=1)[:, np.newaxis]\n",
    "        print(\"Normalized confusion matrix\")\n",
    "    else:\n",
    "        print('Confusion matrix, without normalization')\n",
    "\n",
    "    print(cm)\n",
    "\n",
    "    plt.imshow(cm, interpolation='nearest', cmap=cmap)\n",
    "    plt.title(title)\n",
    "    plt.colorbar()\n",
    "    tick_marks = np.arange(len(classes))\n",
    "    plt.xticks(tick_marks, classes, rotation=45)\n",
    "    plt.yticks(tick_marks, classes)\n",
    "\n",
    "    fmt = '.2f' if normalize else 'd'\n",
    "    thresh = cm.max() / 2.\n",
    "    for i, j in itertools.product(range(cm.shape[0]), range(cm.shape[1])):\n",
    "        plt.text(j, i, format(cm[i, j], fmt),\n",
    "                 horizontalalignment=\"center\",\n",
    "                 color=\"white\" if cm[i, j] > thresh else \"black\")\n",
    "\n",
    "    plt.tight_layout()\n",
    "    plt.ylabel('True label')\n",
    "    plt.xlabel('Predicted label')"
   ]
  },
  {
   "cell_type": "code",
   "execution_count": 0,
   "metadata": {
    "application/vnd.databricks.v1+cell": {
     "cellMetadata": {
      "byteLimit": 2048000,
      "rowLimit": 10000
     },
     "inputWidgets": {},
     "nuid": "31233fd5-d4c4-4f2b-b177-decc4b522571",
     "showTitle": false,
     "title": ""
    }
   },
   "outputs": [
    {
     "output_type": "display_data",
     "data": {
      "text/html": [
       "<style scoped>\n",
       "  .ansiout {\n",
       "    display: block;\n",
       "    unicode-bidi: embed;\n",
       "    white-space: pre-wrap;\n",
       "    word-wrap: break-word;\n",
       "    word-break: break-all;\n",
       "    font-family: \"Menlo\", \"Monaco\", \"Consolas\", \"Ubuntu Mono\", \"Source Code Pro\", monospace;\n",
       "    font-size: 13px;\n",
       "    color: #555;\n",
       "    margin-left: 4px;\n",
       "    line-height: 19px;\n",
       "  }\n",
       "</style>\n",
       "<div class=\"ansiout\"></div>"
      ]
     },
     "metadata": {
      "application/vnd.databricks.v1+output": {
       "addedWidgets": {},
       "arguments": {},
       "data": "<div class=\"ansiout\"></div>",
       "datasetInfos": [],
       "metadata": {},
       "removedWidgets": [],
       "type": "html"
      }
     },
     "output_type": "display_data"
    }
   ],
   "source": [
    "class_temp = predictions.select(\"label\").groupBy(\"label\")\\\n",
    "                        .count().sort('count', ascending=False).toPandas()\n",
    "class_temp = class_temp[\"label\"].values.tolist()\n",
    "class_names = map(str, class_temp)\n",
    "# # # print(class_name)\n"
   ]
  },
  {
   "cell_type": "code",
   "execution_count": 0,
   "metadata": {
    "application/vnd.databricks.v1+cell": {
     "cellMetadata": {
      "byteLimit": 2048000,
      "rowLimit": 10000
     },
     "inputWidgets": {},
     "nuid": "4aef939a-ccb5-40b6-afce-e6e0d1be3737",
     "showTitle": false,
     "title": ""
    }
   },
   "outputs": [
    {
     "output_type": "display_data",
     "data": {
      "text/html": [
       "<style scoped>\n",
       "  .ansiout {\n",
       "    display: block;\n",
       "    unicode-bidi: embed;\n",
       "    white-space: pre-wrap;\n",
       "    word-wrap: break-word;\n",
       "    word-break: break-all;\n",
       "    font-family: \"Menlo\", \"Monaco\", \"Consolas\", \"Ubuntu Mono\", \"Source Code Pro\", monospace;\n",
       "    font-size: 13px;\n",
       "    color: #555;\n",
       "    margin-left: 4px;\n",
       "    line-height: 19px;\n",
       "  }\n",
       "</style>\n",
       "<div class=\"ansiout\">Out[25]: array([[1169,  117,  199],\n",
       "       [ 345,  841,  320],\n",
       "       [ 352,  410,  700]])</div>"
      ]
     },
     "metadata": {
      "application/vnd.databricks.v1+output": {
       "addedWidgets": {},
       "arguments": {},
       "data": "<div class=\"ansiout\">Out[25]: array([[1169,  117,  199],\n       [ 345,  841,  320],\n       [ 352,  410,  700]])</div>",
       "datasetInfos": [],
       "metadata": {},
       "removedWidgets": [],
       "type": "html"
      }
     },
     "output_type": "display_data"
    }
   ],
   "source": [
    "from sklearn.metrics import confusion_matrix\n",
    "y_true = prediction.select(\"label\")\n",
    "y_true = y_true.toPandas()\n",
    "\n",
    "y_pred = prediction.select(\"predictedLabel\")\n",
    "y_pred = y_pred.toPandas()\n",
    "\n",
    "cnf_matrix = confusion_matrix(y_true, y_pred)\n",
    "cnf_matrix"
   ]
  },
  {
   "cell_type": "code",
   "execution_count": 0,
   "metadata": {
    "application/vnd.databricks.v1+cell": {
     "cellMetadata": {
      "byteLimit": 2048000,
      "rowLimit": 10000
     },
     "inputWidgets": {},
     "nuid": "10119099-5a8a-486e-9b2e-148a4321f114",
     "showTitle": false,
     "title": ""
    }
   },
   "outputs": [
    {
     "output_type": "display_data",
     "data": {
      "text/html": [
       "<style scoped>\n",
       "  .ansiout {\n",
       "    display: block;\n",
       "    unicode-bidi: embed;\n",
       "    white-space: pre-wrap;\n",
       "    word-wrap: break-word;\n",
       "    word-break: break-all;\n",
       "    font-family: \"Menlo\", \"Monaco\", \"Consolas\", \"Ubuntu Mono\", \"Source Code Pro\", monospace;\n",
       "    font-size: 13px;\n",
       "    color: #555;\n",
       "    margin-left: 4px;\n",
       "    line-height: 19px;\n",
       "  }\n",
       "</style>\n",
       "<div class=\"ansiout\"></div>"
      ]
     },
     "metadata": {
      "application/vnd.databricks.v1+output": {
       "addedWidgets": {},
       "arguments": {},
       "data": "<div class=\"ansiout\"></div>",
       "datasetInfos": [],
       "metadata": {},
       "removedWidgets": [],
       "type": "html"
      }
     },
     "output_type": "display_data"
    }
   ],
   "source": [
    "#plt.figure()\n",
    "#plot_confusion_matrix(cnf_matrix, classes=class_names, normalize=True,\n",
    "#                      title='Normalized confusion matrix')\n",
    "#\n",
    "#plt.show()"
   ]
  },
  {
   "cell_type": "markdown",
   "metadata": {
    "application/vnd.databricks.v1+cell": {
     "cellMetadata": {},
     "inputWidgets": {},
     "nuid": "f0c8cf7f-98f0-4ed2-b6e6-6df45c18d954",
     "showTitle": false,
     "title": ""
    }
   },
   "source": [
    "test"
   ]
  },
  {
   "cell_type": "code",
   "execution_count": 0,
   "metadata": {
    "application/vnd.databricks.v1+cell": {
     "cellMetadata": {
      "byteLimit": 2048000,
      "rowLimit": 10000
     },
     "inputWidgets": {},
     "nuid": "7ce3f86b-ea31-48e9-acba-18a32ba23a36",
     "showTitle": false,
     "title": ""
    }
   },
   "outputs": [
    {
     "output_type": "display_data",
     "data": {
      "text/html": [
       "<style scoped>\n",
       "  .ansiout {\n",
       "    display: block;\n",
       "    unicode-bidi: embed;\n",
       "    white-space: pre-wrap;\n",
       "    word-wrap: break-word;\n",
       "    word-break: break-all;\n",
       "    font-family: \"Menlo\", \"Monaco\", \"Consolas\", \"Ubuntu Mono\", \"Source Code Pro\", monospace;\n",
       "    font-size: 13px;\n",
       "    color: #555;\n",
       "    margin-left: 4px;\n",
       "    line-height: 19px;\n",
       "  }\n",
       "</style>\n",
       "<div class=\"ansiout\"></div>"
      ]
     },
     "metadata": {
      "application/vnd.databricks.v1+output": {
       "addedWidgets": {},
       "arguments": {},
       "data": "<div class=\"ansiout\"></div>",
       "datasetInfos": [],
       "metadata": {},
       "removedWidgets": [],
       "type": "html"
      }
     },
     "output_type": "display_data"
    }
   ],
   "source": [
    "#data preprocessen \n",
    "df_test  = spark.read.format('delta').load(\n",
    " \"dbfs:/mnt/bastore/modelling/recommendations/data_for_model/test\")\n",
    "df_test1 = df_test.na.fill(0)"
   ]
  },
  {
   "cell_type": "code",
   "execution_count": 0,
   "metadata": {
    "application/vnd.databricks.v1+cell": {
     "cellMetadata": {
      "byteLimit": 2048000,
      "rowLimit": 10000
     },
     "inputWidgets": {},
     "nuid": "530eac5e-6189-4a38-9b5b-b863d553f348",
     "showTitle": false,
     "title": ""
    }
   },
   "outputs": [
    {
     "output_type": "display_data",
     "data": {
      "text/html": [
       "<style scoped>\n",
       "  .ansiout {\n",
       "    display: block;\n",
       "    unicode-bidi: embed;\n",
       "    white-space: pre-wrap;\n",
       "    word-wrap: break-word;\n",
       "    word-break: break-all;\n",
       "    font-family: \"Menlo\", \"Monaco\", \"Consolas\", \"Ubuntu Mono\", \"Source Code Pro\", monospace;\n",
       "    font-size: 13px;\n",
       "    color: #555;\n",
       "    margin-left: 4px;\n",
       "    line-height: 19px;\n",
       "  }\n",
       "</style>\n",
       "<div class=\"ansiout\">Out[28]: </div>"
      ]
     },
     "metadata": {
      "application/vnd.databricks.v1+output": {
       "addedWidgets": {},
       "arguments": {},
       "data": "<div class=\"ansiout\">Out[28]: </div>",
       "datasetInfos": [],
       "metadata": {},
       "removedWidgets": [],
       "type": "html"
      }
     },
     "output_type": "display_data"
    },
    {
     "output_type": "display_data",
     "data": {
      "text/html": [
       "<table border='1'>\n",
       "<tr><th>ConsumerID</th><th>FK_Time</th><th>FK_Time_Date</th><th>FK_Time_Insert</th><th>FK_Consumer</th><th>Country</th><th>Seniority_max</th><th>Product_sum</th><th>Upsell_avg</th><th>SubBreak_sum</th><th>RetIntention_sum</th><th>Retention_sum</th><th>Web_sum_Y1</th><th>Web_sum_Y2</th><th>Web_sum_DY1Y2</th><th>PAS_sum_Y1</th><th>PAS_sum_Y2</th><th>PAS_sum_DY1Y2</th><th>Freebook_sum</th><th>Newsletter_sum</th><th>Payments_sum</th><th>Discount_sum</th><th>Payments_sum_Y4</th><th>Payments_change</th><th>Web_sum_Y1_Fin</th><th>Web_sum_Y1_PortF</th><th>FB_Heal</th><th>FB_Fin</th><th>Fline</th><th>ExFline</th><th>Seniority_ExFline</th><th>Web_sum_Y1_Hline</th><th>Web_sum_Y2_Hline</th><th>Web_sum_DY1Y2_Hline</th><th>Newsletter_sum_Hline</th><th>Hline</th><th>Seniority_Fline</th><th>Newsletter_sum_Fline</th><th>Seniority_Hline</th><th>Seniority_ExHline</th><th>ExHline</th><th>Telemarketing_sum</th><th>ComMail_sum</th><th>Survey_sum</th><th>CampaignType_Fline</th><th>FK_Time2</th><th>webv_bool_inf</th><th>freeb_bool_inf</th><th>pas_Bool_inf</th><th>ServiceGroup</th></tr>\n",
       "<tr><td>null</td><td>20231201</td><td>null</td><td>2024-01-14 18:33:...</td><td>481</td><td>BE</td><td>375</td><td>2</td><td>-225</td><td>0</td><td>0</td><td>0</td><td>184</td><td>null</td><td>null</td><td>0</td><td>null</td><td>null</td><td>2</td><td>0</td><td>273</td><td>0</td><td>null</td><td>10</td><td>null</td><td>null</td><td>null</td><td>null</td><td>0</td><td>0</td><td>0</td><td>null</td><td>null</td><td>null</td><td>null</td><td>0</td><td>0</td><td>null</td><td>0</td><td>6</td><td>1</td><td>null</td><td>null</td><td>null</td><td>null</td><td>20231201</td><td>1</td><td>1</td><td>0</td><td>Ni</td></tr>\n",
       "<tr><td>null</td><td>20231201</td><td>null</td><td>2024-01-14 18:33:...</td><td>673</td><td>BE</td><td>578</td><td>2</td><td>0</td><td>0</td><td>0</td><td>0</td><td>195</td><td>null</td><td>null</td><td>0</td><td>null</td><td>null</td><td>1</td><td>0</td><td>273</td><td>0</td><td>null</td><td>10</td><td>null</td><td>null</td><td>null</td><td>null</td><td>0</td><td>0</td><td>0</td><td>null</td><td>null</td><td>null</td><td>null</td><td>0</td><td>0</td><td>null</td><td>0</td><td>0</td><td>0</td><td>null</td><td>null</td><td>null</td><td>null</td><td>20231201</td><td>1</td><td>1</td><td>1</td><td>ALL</td></tr>\n",
       "<tr><td>null</td><td>20231201</td><td>null</td><td>2024-01-14 18:33:...</td><td>1005</td><td>BE</td><td>373</td><td>2</td><td>0</td><td>0</td><td>0</td><td>0</td><td>0</td><td>null</td><td>null</td><td>0</td><td>null</td><td>null</td><td>0</td><td>0</td><td>270</td><td>0</td><td>null</td><td>8</td><td>null</td><td>null</td><td>null</td><td>null</td><td>0</td><td>0</td><td>0</td><td>null</td><td>null</td><td>null</td><td>null</td><td>0</td><td>0</td><td>null</td><td>0</td><td>0</td><td>0</td><td>null</td><td>null</td><td>null</td><td>null</td><td>20231201</td><td>1</td><td>1</td><td>0</td><td>Ni</td></tr>\n",
       "<tr><td>null</td><td>20231201</td><td>null</td><td>2024-01-14 18:33:...</td><td>1417</td><td>BE</td><td>74</td><td>2</td><td>0</td><td>0</td><td>0</td><td>0</td><td>0</td><td>null</td><td>null</td><td>3</td><td>null</td><td>null</td><td>1</td><td>0</td><td>273</td><td>0</td><td>null</td><td>10</td><td>null</td><td>null</td><td>null</td><td>null</td><td>0</td><td>0</td><td>0</td><td>null</td><td>null</td><td>null</td><td>null</td><td>0</td><td>0</td><td>null</td><td>0</td><td>0</td><td>0</td><td>null</td><td>null</td><td>null</td><td>null</td><td>20231201</td><td>1</td><td>1</td><td>1</td><td>ALL</td></tr>\n",
       "<tr><td>null</td><td>20231201</td><td>null</td><td>2024-01-14 18:33:...</td><td>1829</td><td>BE</td><td>247</td><td>1</td><td>0</td><td>0</td><td>0</td><td>0</td><td>85</td><td>null</td><td>null</td><td>8</td><td>null</td><td>null</td><td>1</td><td>0</td><td>173</td><td>0</td><td>null</td><td>4</td><td>null</td><td>null</td><td>null</td><td>null</td><td>0</td><td>0</td><td>0</td><td>null</td><td>null</td><td>null</td><td>null</td><td>0</td><td>0</td><td>null</td><td>0</td><td>0</td><td>0</td><td>null</td><td>null</td><td>null</td><td>null</td><td>20231201</td><td>1</td><td>1</td><td>1</td><td>ALL</td></tr>\n",
       "<tr><td>null</td><td>20231201</td><td>null</td><td>2024-01-14 18:33:...</td><td>2096</td><td>BE</td><td>198</td><td>4</td><td>0</td><td>0</td><td>2</td><td>0</td><td>0</td><td>null</td><td>null</td><td>0</td><td>null</td><td>null</td><td>0</td><td>0</td><td>426</td><td>0</td><td>null</td><td>8</td><td>null</td><td>null</td><td>null</td><td>null</td><td>0</td><td>1</td><td>2</td><td>null</td><td>null</td><td>null</td><td>null</td><td>1</td><td>0</td><td>null</td><td>63</td><td>0</td><td>0</td><td>null</td><td>null</td><td>null</td><td>null</td><td>20231201</td><td>1</td><td>0</td><td>1</td><td>Ni</td></tr>\n",
       "<tr><td>null</td><td>20231201</td><td>null</td><td>2024-01-14 18:33:...</td><td>2156</td><td>BE</td><td>567</td><td>1</td><td>0</td><td>0</td><td>0</td><td>0</td><td>0</td><td>null</td><td>null</td><td>0</td><td>null</td><td>null</td><td>0</td><td>0</td><td>177</td><td>0</td><td>null</td><td>11</td><td>null</td><td>null</td><td>null</td><td>null</td><td>0</td><td>0</td><td>0</td><td>null</td><td>null</td><td>null</td><td>null</td><td>0</td><td>0</td><td>null</td><td>0</td><td>0</td><td>0</td><td>null</td><td>null</td><td>null</td><td>null</td><td>20231201</td><td>1</td><td>0</td><td>1</td><td>Ni</td></tr>\n",
       "<tr><td>null</td><td>20231201</td><td>null</td><td>2024-01-14 18:33:...</td><td>2542</td><td>BE</td><td>575</td><td>1</td><td>-41</td><td>0</td><td>0</td><td>0</td><td>328</td><td>null</td><td>null</td><td>15</td><td>null</td><td>null</td><td>0</td><td>0</td><td>255</td><td>0</td><td>null</td><td>-7</td><td>null</td><td>null</td><td>null</td><td>null</td><td>0</td><td>0</td><td>0</td><td>null</td><td>null</td><td>null</td><td>null</td><td>0</td><td>0</td><td>null</td><td>0</td><td>0</td><td>0</td><td>null</td><td>null</td><td>null</td><td>null</td><td>20231201</td><td>1</td><td>1</td><td>1</td><td>ALL</td></tr>\n",
       "<tr><td>null</td><td>20231201</td><td>null</td><td>2024-01-14 18:33:...</td><td>2748</td><td>BE</td><td>672</td><td>4</td><td>0</td><td>0</td><td>1</td><td>0</td><td>410</td><td>null</td><td>null</td><td>0</td><td>null</td><td>null</td><td>2</td><td>0</td><td>386</td><td>0</td><td>null</td><td>67</td><td>null</td><td>null</td><td>null</td><td>null</td><td>0</td><td>0</td><td>0</td><td>null</td><td>null</td><td>null</td><td>null</td><td>0</td><td>0</td><td>null</td><td>0</td><td>0</td><td>0</td><td>null</td><td>null</td><td>null</td><td>null</td><td>20231201</td><td>1</td><td>1</td><td>1</td><td>ALL</td></tr>\n",
       "<tr><td>null</td><td>20231201</td><td>null</td><td>2024-01-14 18:33:...</td><td>2811</td><td>BE</td><td>77</td><td>4</td><td>0</td><td>0</td><td>0</td><td>2</td><td>0</td><td>null</td><td>null</td><td>0</td><td>null</td><td>null</td><td>5</td><td>0</td><td>436</td><td>0</td><td>null</td><td>1</td><td>null</td><td>null</td><td>null</td><td>null</td><td>0</td><td>0</td><td>0</td><td>null</td><td>null</td><td>null</td><td>null</td><td>1</td><td>0</td><td>null</td><td>77</td><td>0</td><td>0</td><td>null</td><td>null</td><td>null</td><td>null</td><td>20231201</td><td>1</td><td>1</td><td>0</td><td>Ni</td></tr>\n",
       "<tr><td>null</td><td>20231201</td><td>null</td><td>2024-01-14 18:33:...</td><td>3062</td><td>BE</td><td>576</td><td>1</td><td>0</td><td>0</td><td>0</td><td>0</td><td>0</td><td>null</td><td>null</td><td>0</td><td>null</td><td>null</td><td>0</td><td>0</td><td>170</td><td>0</td><td>null</td><td>4</td><td>null</td><td>null</td><td>null</td><td>null</td><td>0</td><td>0</td><td>0</td><td>null</td><td>null</td><td>null</td><td>null</td><td>0</td><td>0</td><td>null</td><td>0</td><td>0</td><td>0</td><td>null</td><td>null</td><td>null</td><td>null</td><td>20231201</td><td>1</td><td>0</td><td>1</td><td>Ni</td></tr>\n",
       "<tr><td>null</td><td>20231201</td><td>null</td><td>2024-01-14 18:33:...</td><td>3089</td><td>BE</td><td>575</td><td>2</td><td>0</td><td>0</td><td>0</td><td>0</td><td>0</td><td>null</td><td>null</td><td>0</td><td>null</td><td>null</td><td>0</td><td>0</td><td>217</td><td>0</td><td>null</td><td>12</td><td>null</td><td>null</td><td>null</td><td>null</td><td>0</td><td>0</td><td>0</td><td>null</td><td>null</td><td>null</td><td>null</td><td>0</td><td>0</td><td>null</td><td>0</td><td>0</td><td>0</td><td>null</td><td>null</td><td>null</td><td>null</td><td>20231201</td><td>1</td><td>0</td><td>1</td><td>Ni</td></tr>\n",
       "<tr><td>null</td><td>20231201</td><td>null</td><td>2024-01-14 18:33:...</td><td>3175</td><td>BE</td><td>672</td><td>2</td><td>0</td><td>0</td><td>1</td><td>0</td><td>0</td><td>null</td><td>null</td><td>0</td><td>null</td><td>null</td><td>0</td><td>0</td><td>201</td><td>14</td><td>null</td><td>-62</td><td>null</td><td>null</td><td>null</td><td>null</td><td>0</td><td>0</td><td>0</td><td>null</td><td>null</td><td>null</td><td>null</td><td>0</td><td>0</td><td>null</td><td>0</td><td>0</td><td>0</td><td>null</td><td>null</td><td>null</td><td>null</td><td>20231201</td><td>1</td><td>0</td><td>0</td><td>NiNi</td></tr>\n",
       "<tr><td>null</td><td>20231201</td><td>null</td><td>2024-01-14 18:33:...</td><td>3488</td><td>BE</td><td>141</td><td>1</td><td>0</td><td>0</td><td>0</td><td>0</td><td>23</td><td>null</td><td>null</td><td>0</td><td>null</td><td>null</td><td>4</td><td>0</td><td>181</td><td>0</td><td>null</td><td>8</td><td>null</td><td>null</td><td>null</td><td>null</td><td>0</td><td>0</td><td>0</td><td>null</td><td>null</td><td>null</td><td>null</td><td>0</td><td>0</td><td>null</td><td>0</td><td>0</td><td>0</td><td>null</td><td>null</td><td>null</td><td>null</td><td>20231201</td><td>1</td><td>1</td><td>1</td><td>ALL</td></tr>\n",
       "<tr><td>null</td><td>20231201</td><td>null</td><td>2024-01-14 18:33:...</td><td>4061</td><td>BE</td><td>171</td><td>4</td><td>0</td><td>0</td><td>0</td><td>0</td><td>0</td><td>null</td><td>null</td><td>0</td><td>null</td><td>null</td><td>2</td><td>0</td><td>326</td><td>0</td><td>null</td><td>38</td><td>null</td><td>null</td><td>null</td><td>null</td><td>0</td><td>0</td><td>0</td><td>null</td><td>null</td><td>null</td><td>null</td><td>0</td><td>0</td><td>null</td><td>0</td><td>0</td><td>0</td><td>null</td><td>null</td><td>null</td><td>null</td><td>20231201</td><td>1</td><td>1</td><td>1</td><td>ALL</td></tr>\n",
       "<tr><td>null</td><td>20231201</td><td>null</td><td>2024-01-14 18:33:...</td><td>4517</td><td>BE</td><td>98</td><td>2</td><td>0</td><td>0</td><td>1</td><td>0</td><td>2</td><td>null</td><td>null</td><td>85</td><td>null</td><td>null</td><td>2</td><td>0</td><td>253</td><td>0</td><td>null</td><td>8</td><td>null</td><td>null</td><td>null</td><td>null</td><td>0</td><td>0</td><td>0</td><td>null</td><td>null</td><td>null</td><td>null</td><td>0</td><td>0</td><td>null</td><td>0</td><td>0</td><td>0</td><td>null</td><td>null</td><td>null</td><td>null</td><td>20231201</td><td>1</td><td>1</td><td>1</td><td>ALL</td></tr>\n",
       "<tr><td>null</td><td>20231201</td><td>null</td><td>2024-01-14 18:33:...</td><td>5217</td><td>BE</td><td>672</td><td>3</td><td>0</td><td>0</td><td>1</td><td>0</td><td>2</td><td>null</td><td>null</td><td>0</td><td>null</td><td>null</td><td>0</td><td>0</td><td>617</td><td>24</td><td>null</td><td>-115</td><td>null</td><td>null</td><td>null</td><td>null</td><td>1</td><td>0</td><td>0</td><td>null</td><td>null</td><td>null</td><td>null</td><td>0</td><td>74</td><td>null</td><td>0</td><td>0</td><td>0</td><td>null</td><td>null</td><td>null</td><td>null</td><td>20231201</td><td>1</td><td>1</td><td>1</td><td>ALL</td></tr>\n",
       "<tr><td>null</td><td>20231201</td><td>null</td><td>2024-01-14 18:33:...</td><td>5223</td><td>BE</td><td>256</td><td>2</td><td>0</td><td>0</td><td>3</td><td>0</td><td>0</td><td>null</td><td>null</td><td>0</td><td>null</td><td>null</td><td>0</td><td>0</td><td>203</td><td>38</td><td>null</td><td>-60</td><td>null</td><td>null</td><td>null</td><td>null</td><td>0</td><td>0</td><td>0</td><td>null</td><td>null</td><td>null</td><td>null</td><td>0</td><td>0</td><td>null</td><td>0</td><td>0</td><td>0</td><td>null</td><td>null</td><td>null</td><td>null</td><td>20231201</td><td>0</td><td>0</td><td>1</td><td>NiNi</td></tr>\n",
       "<tr><td>null</td><td>20231201</td><td>null</td><td>2024-01-14 18:33:...</td><td>7066</td><td>BE</td><td>671</td><td>4</td><td>0</td><td>0</td><td>0</td><td>0</td><td>0</td><td>null</td><td>null</td><td>0</td><td>null</td><td>null</td><td>0</td><td>0</td><td>776</td><td>0</td><td>null</td><td>12</td><td>null</td><td>null</td><td>null</td><td>null</td><td>1</td><td>0</td><td>0</td><td>null</td><td>null</td><td>null</td><td>null</td><td>0</td><td>255</td><td>null</td><td>0</td><td>0</td><td>0</td><td>null</td><td>null</td><td>null</td><td>null</td><td>20231201</td><td>1</td><td>0</td><td>1</td><td>Ni</td></tr>\n",
       "<tr><td>null</td><td>20231201</td><td>null</td><td>2024-01-14 18:33:...</td><td>7253</td><td>BE</td><td>175</td><td>2</td><td>0</td><td>0</td><td>1</td><td>1</td><td>58</td><td>null</td><td>null</td><td>40</td><td>null</td><td>null</td><td>4</td><td>0</td><td>281</td><td>0</td><td>null</td><td>6</td><td>null</td><td>null</td><td>null</td><td>null</td><td>0</td><td>1</td><td>20</td><td>null</td><td>null</td><td>null</td><td>null</td><td>0</td><td>0</td><td>null</td><td>0</td><td>4</td><td>1</td><td>null</td><td>null</td><td>null</td><td>null</td><td>20231201</td><td>1</td><td>1</td><td>1</td><td>ALL</td></tr>\n",
       "</table>\n",
       "only showing top 20 rows\n"
      ]
     },
     "metadata": {
      "application/vnd.databricks.v1+output": {
       "addedWidgets": {},
       "arguments": {},
       "data": "<table border='1'>\n<tr><th>ConsumerID</th><th>FK_Time</th><th>FK_Time_Date</th><th>FK_Time_Insert</th><th>FK_Consumer</th><th>Country</th><th>Seniority_max</th><th>Product_sum</th><th>Upsell_avg</th><th>SubBreak_sum</th><th>RetIntention_sum</th><th>Retention_sum</th><th>Web_sum_Y1</th><th>Web_sum_Y2</th><th>Web_sum_DY1Y2</th><th>PAS_sum_Y1</th><th>PAS_sum_Y2</th><th>PAS_sum_DY1Y2</th><th>Freebook_sum</th><th>Newsletter_sum</th><th>Payments_sum</th><th>Discount_sum</th><th>Payments_sum_Y4</th><th>Payments_change</th><th>Web_sum_Y1_Fin</th><th>Web_sum_Y1_PortF</th><th>FB_Heal</th><th>FB_Fin</th><th>Fline</th><th>ExFline</th><th>Seniority_ExFline</th><th>Web_sum_Y1_Hline</th><th>Web_sum_Y2_Hline</th><th>Web_sum_DY1Y2_Hline</th><th>Newsletter_sum_Hline</th><th>Hline</th><th>Seniority_Fline</th><th>Newsletter_sum_Fline</th><th>Seniority_Hline</th><th>Seniority_ExHline</th><th>ExHline</th><th>Telemarketing_sum</th><th>ComMail_sum</th><th>Survey_sum</th><th>CampaignType_Fline</th><th>FK_Time2</th><th>webv_bool_inf</th><th>freeb_bool_inf</th><th>pas_Bool_inf</th><th>ServiceGroup</th></tr>\n<tr><td>null</td><td>20231201</td><td>null</td><td>2024-01-14 18:33:...</td><td>481</td><td>BE</td><td>375</td><td>2</td><td>-225</td><td>0</td><td>0</td><td>0</td><td>184</td><td>null</td><td>null</td><td>0</td><td>null</td><td>null</td><td>2</td><td>0</td><td>273</td><td>0</td><td>null</td><td>10</td><td>null</td><td>null</td><td>null</td><td>null</td><td>0</td><td>0</td><td>0</td><td>null</td><td>null</td><td>null</td><td>null</td><td>0</td><td>0</td><td>null</td><td>0</td><td>6</td><td>1</td><td>null</td><td>null</td><td>null</td><td>null</td><td>20231201</td><td>1</td><td>1</td><td>0</td><td>Ni</td></tr>\n<tr><td>null</td><td>20231201</td><td>null</td><td>2024-01-14 18:33:...</td><td>673</td><td>BE</td><td>578</td><td>2</td><td>0</td><td>0</td><td>0</td><td>0</td><td>195</td><td>null</td><td>null</td><td>0</td><td>null</td><td>null</td><td>1</td><td>0</td><td>273</td><td>0</td><td>null</td><td>10</td><td>null</td><td>null</td><td>null</td><td>null</td><td>0</td><td>0</td><td>0</td><td>null</td><td>null</td><td>null</td><td>null</td><td>0</td><td>0</td><td>null</td><td>0</td><td>0</td><td>0</td><td>null</td><td>null</td><td>null</td><td>null</td><td>20231201</td><td>1</td><td>1</td><td>1</td><td>ALL</td></tr>\n<tr><td>null</td><td>20231201</td><td>null</td><td>2024-01-14 18:33:...</td><td>1005</td><td>BE</td><td>373</td><td>2</td><td>0</td><td>0</td><td>0</td><td>0</td><td>0</td><td>null</td><td>null</td><td>0</td><td>null</td><td>null</td><td>0</td><td>0</td><td>270</td><td>0</td><td>null</td><td>8</td><td>null</td><td>null</td><td>null</td><td>null</td><td>0</td><td>0</td><td>0</td><td>null</td><td>null</td><td>null</td><td>null</td><td>0</td><td>0</td><td>null</td><td>0</td><td>0</td><td>0</td><td>null</td><td>null</td><td>null</td><td>null</td><td>20231201</td><td>1</td><td>1</td><td>0</td><td>Ni</td></tr>\n<tr><td>null</td><td>20231201</td><td>null</td><td>2024-01-14 18:33:...</td><td>1417</td><td>BE</td><td>74</td><td>2</td><td>0</td><td>0</td><td>0</td><td>0</td><td>0</td><td>null</td><td>null</td><td>3</td><td>null</td><td>null</td><td>1</td><td>0</td><td>273</td><td>0</td><td>null</td><td>10</td><td>null</td><td>null</td><td>null</td><td>null</td><td>0</td><td>0</td><td>0</td><td>null</td><td>null</td><td>null</td><td>null</td><td>0</td><td>0</td><td>null</td><td>0</td><td>0</td><td>0</td><td>null</td><td>null</td><td>null</td><td>null</td><td>20231201</td><td>1</td><td>1</td><td>1</td><td>ALL</td></tr>\n<tr><td>null</td><td>20231201</td><td>null</td><td>2024-01-14 18:33:...</td><td>1829</td><td>BE</td><td>247</td><td>1</td><td>0</td><td>0</td><td>0</td><td>0</td><td>85</td><td>null</td><td>null</td><td>8</td><td>null</td><td>null</td><td>1</td><td>0</td><td>173</td><td>0</td><td>null</td><td>4</td><td>null</td><td>null</td><td>null</td><td>null</td><td>0</td><td>0</td><td>0</td><td>null</td><td>null</td><td>null</td><td>null</td><td>0</td><td>0</td><td>null</td><td>0</td><td>0</td><td>0</td><td>null</td><td>null</td><td>null</td><td>null</td><td>20231201</td><td>1</td><td>1</td><td>1</td><td>ALL</td></tr>\n<tr><td>null</td><td>20231201</td><td>null</td><td>2024-01-14 18:33:...</td><td>2096</td><td>BE</td><td>198</td><td>4</td><td>0</td><td>0</td><td>2</td><td>0</td><td>0</td><td>null</td><td>null</td><td>0</td><td>null</td><td>null</td><td>0</td><td>0</td><td>426</td><td>0</td><td>null</td><td>8</td><td>null</td><td>null</td><td>null</td><td>null</td><td>0</td><td>1</td><td>2</td><td>null</td><td>null</td><td>null</td><td>null</td><td>1</td><td>0</td><td>null</td><td>63</td><td>0</td><td>0</td><td>null</td><td>null</td><td>null</td><td>null</td><td>20231201</td><td>1</td><td>0</td><td>1</td><td>Ni</td></tr>\n<tr><td>null</td><td>20231201</td><td>null</td><td>2024-01-14 18:33:...</td><td>2156</td><td>BE</td><td>567</td><td>1</td><td>0</td><td>0</td><td>0</td><td>0</td><td>0</td><td>null</td><td>null</td><td>0</td><td>null</td><td>null</td><td>0</td><td>0</td><td>177</td><td>0</td><td>null</td><td>11</td><td>null</td><td>null</td><td>null</td><td>null</td><td>0</td><td>0</td><td>0</td><td>null</td><td>null</td><td>null</td><td>null</td><td>0</td><td>0</td><td>null</td><td>0</td><td>0</td><td>0</td><td>null</td><td>null</td><td>null</td><td>null</td><td>20231201</td><td>1</td><td>0</td><td>1</td><td>Ni</td></tr>\n<tr><td>null</td><td>20231201</td><td>null</td><td>2024-01-14 18:33:...</td><td>2542</td><td>BE</td><td>575</td><td>1</td><td>-41</td><td>0</td><td>0</td><td>0</td><td>328</td><td>null</td><td>null</td><td>15</td><td>null</td><td>null</td><td>0</td><td>0</td><td>255</td><td>0</td><td>null</td><td>-7</td><td>null</td><td>null</td><td>null</td><td>null</td><td>0</td><td>0</td><td>0</td><td>null</td><td>null</td><td>null</td><td>null</td><td>0</td><td>0</td><td>null</td><td>0</td><td>0</td><td>0</td><td>null</td><td>null</td><td>null</td><td>null</td><td>20231201</td><td>1</td><td>1</td><td>1</td><td>ALL</td></tr>\n<tr><td>null</td><td>20231201</td><td>null</td><td>2024-01-14 18:33:...</td><td>2748</td><td>BE</td><td>672</td><td>4</td><td>0</td><td>0</td><td>1</td><td>0</td><td>410</td><td>null</td><td>null</td><td>0</td><td>null</td><td>null</td><td>2</td><td>0</td><td>386</td><td>0</td><td>null</td><td>67</td><td>null</td><td>null</td><td>null</td><td>null</td><td>0</td><td>0</td><td>0</td><td>null</td><td>null</td><td>null</td><td>null</td><td>0</td><td>0</td><td>null</td><td>0</td><td>0</td><td>0</td><td>null</td><td>null</td><td>null</td><td>null</td><td>20231201</td><td>1</td><td>1</td><td>1</td><td>ALL</td></tr>\n<tr><td>null</td><td>20231201</td><td>null</td><td>2024-01-14 18:33:...</td><td>2811</td><td>BE</td><td>77</td><td>4</td><td>0</td><td>0</td><td>0</td><td>2</td><td>0</td><td>null</td><td>null</td><td>0</td><td>null</td><td>null</td><td>5</td><td>0</td><td>436</td><td>0</td><td>null</td><td>1</td><td>null</td><td>null</td><td>null</td><td>null</td><td>0</td><td>0</td><td>0</td><td>null</td><td>null</td><td>null</td><td>null</td><td>1</td><td>0</td><td>null</td><td>77</td><td>0</td><td>0</td><td>null</td><td>null</td><td>null</td><td>null</td><td>20231201</td><td>1</td><td>1</td><td>0</td><td>Ni</td></tr>\n<tr><td>null</td><td>20231201</td><td>null</td><td>2024-01-14 18:33:...</td><td>3062</td><td>BE</td><td>576</td><td>1</td><td>0</td><td>0</td><td>0</td><td>0</td><td>0</td><td>null</td><td>null</td><td>0</td><td>null</td><td>null</td><td>0</td><td>0</td><td>170</td><td>0</td><td>null</td><td>4</td><td>null</td><td>null</td><td>null</td><td>null</td><td>0</td><td>0</td><td>0</td><td>null</td><td>null</td><td>null</td><td>null</td><td>0</td><td>0</td><td>null</td><td>0</td><td>0</td><td>0</td><td>null</td><td>null</td><td>null</td><td>null</td><td>20231201</td><td>1</td><td>0</td><td>1</td><td>Ni</td></tr>\n<tr><td>null</td><td>20231201</td><td>null</td><td>2024-01-14 18:33:...</td><td>3089</td><td>BE</td><td>575</td><td>2</td><td>0</td><td>0</td><td>0</td><td>0</td><td>0</td><td>null</td><td>null</td><td>0</td><td>null</td><td>null</td><td>0</td><td>0</td><td>217</td><td>0</td><td>null</td><td>12</td><td>null</td><td>null</td><td>null</td><td>null</td><td>0</td><td>0</td><td>0</td><td>null</td><td>null</td><td>null</td><td>null</td><td>0</td><td>0</td><td>null</td><td>0</td><td>0</td><td>0</td><td>null</td><td>null</td><td>null</td><td>null</td><td>20231201</td><td>1</td><td>0</td><td>1</td><td>Ni</td></tr>\n<tr><td>null</td><td>20231201</td><td>null</td><td>2024-01-14 18:33:...</td><td>3175</td><td>BE</td><td>672</td><td>2</td><td>0</td><td>0</td><td>1</td><td>0</td><td>0</td><td>null</td><td>null</td><td>0</td><td>null</td><td>null</td><td>0</td><td>0</td><td>201</td><td>14</td><td>null</td><td>-62</td><td>null</td><td>null</td><td>null</td><td>null</td><td>0</td><td>0</td><td>0</td><td>null</td><td>null</td><td>null</td><td>null</td><td>0</td><td>0</td><td>null</td><td>0</td><td>0</td><td>0</td><td>null</td><td>null</td><td>null</td><td>null</td><td>20231201</td><td>1</td><td>0</td><td>0</td><td>NiNi</td></tr>\n<tr><td>null</td><td>20231201</td><td>null</td><td>2024-01-14 18:33:...</td><td>3488</td><td>BE</td><td>141</td><td>1</td><td>0</td><td>0</td><td>0</td><td>0</td><td>23</td><td>null</td><td>null</td><td>0</td><td>null</td><td>null</td><td>4</td><td>0</td><td>181</td><td>0</td><td>null</td><td>8</td><td>null</td><td>null</td><td>null</td><td>null</td><td>0</td><td>0</td><td>0</td><td>null</td><td>null</td><td>null</td><td>null</td><td>0</td><td>0</td><td>null</td><td>0</td><td>0</td><td>0</td><td>null</td><td>null</td><td>null</td><td>null</td><td>20231201</td><td>1</td><td>1</td><td>1</td><td>ALL</td></tr>\n<tr><td>null</td><td>20231201</td><td>null</td><td>2024-01-14 18:33:...</td><td>4061</td><td>BE</td><td>171</td><td>4</td><td>0</td><td>0</td><td>0</td><td>0</td><td>0</td><td>null</td><td>null</td><td>0</td><td>null</td><td>null</td><td>2</td><td>0</td><td>326</td><td>0</td><td>null</td><td>38</td><td>null</td><td>null</td><td>null</td><td>null</td><td>0</td><td>0</td><td>0</td><td>null</td><td>null</td><td>null</td><td>null</td><td>0</td><td>0</td><td>null</td><td>0</td><td>0</td><td>0</td><td>null</td><td>null</td><td>null</td><td>null</td><td>20231201</td><td>1</td><td>1</td><td>1</td><td>ALL</td></tr>\n<tr><td>null</td><td>20231201</td><td>null</td><td>2024-01-14 18:33:...</td><td>4517</td><td>BE</td><td>98</td><td>2</td><td>0</td><td>0</td><td>1</td><td>0</td><td>2</td><td>null</td><td>null</td><td>85</td><td>null</td><td>null</td><td>2</td><td>0</td><td>253</td><td>0</td><td>null</td><td>8</td><td>null</td><td>null</td><td>null</td><td>null</td><td>0</td><td>0</td><td>0</td><td>null</td><td>null</td><td>null</td><td>null</td><td>0</td><td>0</td><td>null</td><td>0</td><td>0</td><td>0</td><td>null</td><td>null</td><td>null</td><td>null</td><td>20231201</td><td>1</td><td>1</td><td>1</td><td>ALL</td></tr>\n<tr><td>null</td><td>20231201</td><td>null</td><td>2024-01-14 18:33:...</td><td>5217</td><td>BE</td><td>672</td><td>3</td><td>0</td><td>0</td><td>1</td><td>0</td><td>2</td><td>null</td><td>null</td><td>0</td><td>null</td><td>null</td><td>0</td><td>0</td><td>617</td><td>24</td><td>null</td><td>-115</td><td>null</td><td>null</td><td>null</td><td>null</td><td>1</td><td>0</td><td>0</td><td>null</td><td>null</td><td>null</td><td>null</td><td>0</td><td>74</td><td>null</td><td>0</td><td>0</td><td>0</td><td>null</td><td>null</td><td>null</td><td>null</td><td>20231201</td><td>1</td><td>1</td><td>1</td><td>ALL</td></tr>\n<tr><td>null</td><td>20231201</td><td>null</td><td>2024-01-14 18:33:...</td><td>5223</td><td>BE</td><td>256</td><td>2</td><td>0</td><td>0</td><td>3</td><td>0</td><td>0</td><td>null</td><td>null</td><td>0</td><td>null</td><td>null</td><td>0</td><td>0</td><td>203</td><td>38</td><td>null</td><td>-60</td><td>null</td><td>null</td><td>null</td><td>null</td><td>0</td><td>0</td><td>0</td><td>null</td><td>null</td><td>null</td><td>null</td><td>0</td><td>0</td><td>null</td><td>0</td><td>0</td><td>0</td><td>null</td><td>null</td><td>null</td><td>null</td><td>20231201</td><td>0</td><td>0</td><td>1</td><td>NiNi</td></tr>\n<tr><td>null</td><td>20231201</td><td>null</td><td>2024-01-14 18:33:...</td><td>7066</td><td>BE</td><td>671</td><td>4</td><td>0</td><td>0</td><td>0</td><td>0</td><td>0</td><td>null</td><td>null</td><td>0</td><td>null</td><td>null</td><td>0</td><td>0</td><td>776</td><td>0</td><td>null</td><td>12</td><td>null</td><td>null</td><td>null</td><td>null</td><td>1</td><td>0</td><td>0</td><td>null</td><td>null</td><td>null</td><td>null</td><td>0</td><td>255</td><td>null</td><td>0</td><td>0</td><td>0</td><td>null</td><td>null</td><td>null</td><td>null</td><td>20231201</td><td>1</td><td>0</td><td>1</td><td>Ni</td></tr>\n<tr><td>null</td><td>20231201</td><td>null</td><td>2024-01-14 18:33:...</td><td>7253</td><td>BE</td><td>175</td><td>2</td><td>0</td><td>0</td><td>1</td><td>1</td><td>58</td><td>null</td><td>null</td><td>40</td><td>null</td><td>null</td><td>4</td><td>0</td><td>281</td><td>0</td><td>null</td><td>6</td><td>null</td><td>null</td><td>null</td><td>null</td><td>0</td><td>1</td><td>20</td><td>null</td><td>null</td><td>null</td><td>null</td><td>0</td><td>0</td><td>null</td><td>0</td><td>4</td><td>1</td><td>null</td><td>null</td><td>null</td><td>null</td><td>20231201</td><td>1</td><td>1</td><td>1</td><td>ALL</td></tr>\n</table>\nonly showing top 20 rows\n",
       "datasetInfos": [],
       "metadata": {},
       "removedWidgets": [],
       "textData": null,
       "type": "htmlSandbox"
      }
     },
     "output_type": "display_data"
    }
   ],
   "source": [
    "df_test"
   ]
  },
  {
   "cell_type": "code",
   "execution_count": 0,
   "metadata": {
    "application/vnd.databricks.v1+cell": {
     "cellMetadata": {
      "byteLimit": 2048000,
      "rowLimit": 10000
     },
     "inputWidgets": {},
     "nuid": "8c512ea8-764a-4968-9f03-b39741204254",
     "showTitle": false,
     "title": ""
    }
   },
   "outputs": [
    {
     "output_type": "display_data",
     "data": {
      "text/html": [
       "<style scoped>\n",
       "  .ansiout {\n",
       "    display: block;\n",
       "    unicode-bidi: embed;\n",
       "    white-space: pre-wrap;\n",
       "    word-wrap: break-word;\n",
       "    word-break: break-all;\n",
       "    font-family: \"Menlo\", \"Monaco\", \"Consolas\", \"Ubuntu Mono\", \"Source Code Pro\", monospace;\n",
       "    font-size: 13px;\n",
       "    color: #555;\n",
       "    margin-left: 4px;\n",
       "    line-height: 19px;\n",
       "  }\n",
       "</style>\n",
       "<div class=\"ansiout\"></div>"
      ]
     },
     "metadata": {
      "application/vnd.databricks.v1+output": {
       "addedWidgets": {},
       "arguments": {},
       "data": "<div class=\"ansiout\"></div>",
       "datasetInfos": [],
       "metadata": {},
       "removedWidgets": [],
       "type": "html"
      }
     },
     "output_type": "display_data"
    }
   ],
   "source": [
    "from pyspark.sql.types import IntegerType\n",
    "df_test2 = featureIndexer.transform(df_test1).drop('Country')\n",
    "\n",
    "df_test3 = df_test2.select( \"CountryIndex\",\"Seniority_max\", \"Product_sum\", \"Upsell_avg\", \"SubBreak_sum\", \"Retention_sum\", \"RetIntention_sum\", \"Discount_sum\", \"Payments_sum\", \"Fline\", \"Hline\", \"ExHline\", \"ExFline\", \"Seniority_Hline\", \"Seniority_Fline\", \"Seniority_ExFline\", \"Seniority_ExHline\",  col(\"FK_Consumer\").cast(IntegerType()), col(\"FK_Time\").cast(IntegerType()))\n"
   ]
  },
  {
   "cell_type": "code",
   "execution_count": 0,
   "metadata": {
    "application/vnd.databricks.v1+cell": {
     "cellMetadata": {
      "byteLimit": 2048000,
      "rowLimit": 10000
     },
     "inputWidgets": {},
     "nuid": "85062d3b-543f-4078-9cf5-fb7e42055b96",
     "showTitle": false,
     "title": ""
    }
   },
   "outputs": [
    {
     "output_type": "display_data",
     "data": {
      "text/html": [
       "<style scoped>\n",
       "  .ansiout {\n",
       "    display: block;\n",
       "    unicode-bidi: embed;\n",
       "    white-space: pre-wrap;\n",
       "    word-wrap: break-word;\n",
       "    word-break: break-all;\n",
       "    font-family: \"Menlo\", \"Monaco\", \"Consolas\", \"Ubuntu Mono\", \"Source Code Pro\", monospace;\n",
       "    font-size: 13px;\n",
       "    color: #555;\n",
       "    margin-left: 4px;\n",
       "    line-height: 19px;\n",
       "  }\n",
       "</style>\n",
       "<div class=\"ansiout\">+----------------------------------------------------------------------------+-----------+--------+-----------------------------------------------------------+------------------------------------------------------------------+----------+--------------+\n",
       "features                                                                    |FK_Consumer|FK_Time |rawPrediction                                              |probability                                                       |prediction|predictedLabel|\n",
       "+----------------------------------------------------------------------------+-----------+--------+-----------------------------------------------------------+------------------------------------------------------------------+----------+--------------+\n",
       "[1.0,565.0,2.0,0.0,0.0,0.0,0.0,0.0,270.0,0.0,0.0,0.0,0.0,0.0,0.0,0.0,0.0]   |374        |20231201|[-1.7311409864039902,-52.01812405240559,53.749265038809575]|[8.038329593778937E-25,1.1636076086563667E-46,1.0]                |2.0       |PAS           |\n",
       "[1.0,142.0,3.0,0.0,0.0,0.0,0.0,0.0,347.0,0.0,0.0,0.0,1.0,0.0,0.0,65.0,0.0]  |547        |20231201|[-57.39756797361284,-32.18747078084156,89.5850387544544]   |[1.4664422417389942E-64,1.3027799356906845E-53,1.0]               |2.0       |PAS           |\n",
       "[1.0,672.0,2.0,0.0,0.0,0.0,1.0,14.0,270.0,0.0,0.0,0.0,0.0,0.0,0.0,0.0,0.0]  |1369       |20231201|[8.261687164756037,-58.28317033991415,50.0214831751581]    |[7.310566420649564E-19,9.20209291222251E-48,1.0]                  |2.0       |PAS           |\n",
       "[1.0,168.0,3.0,133.0,0.0,0.0,7.0,0.0,184.0,0.0,1.0,0.0,1.0,8.0,0.0,28.0,0.0]|1520       |20231201|[-31.111023046290295,-5.321838001956287,36.432861048246586]|[4.635150622643357E-30,7.347923208886296E-19,1.0]                 |2.0       |PAS           |\n",
       "[1.0,131.0,2.0,-66.0,0.0,1.0,0.0,0.0,296.0,0.0,0.0,0.0,1.0,0.0,0.0,38.0,0.0]|2089       |20231201|[-42.840877129853325,-36.83244735293642,79.67332448278974] |[6.205235734778458E-54,2.5245628195644227E-51,1.0]                |2.0       |PAS           |\n",
       "[1.0,211.0,3.0,0.0,0.0,0.0,0.0,0.0,285.0,0.0,1.0,0.0,0.0,144.0,0.0,0.0,0.0] |2403       |20231201|[-22.371935988357187,-37.03783840790392,59.409774396261106]|[3.038466548043482E-36,1.2981771674172002E-42,1.0]                |2.0       |PAS           |\n",
       "[1.0,672.0,1.0,0.0,0.0,0.0,1.0,0.0,179.0,0.0,0.0,0.0,0.0,0.0,0.0,0.0,0.0]   |2861       |20231201|[27.254583480942866,-52.28717783943729,25.032594358494432] |[0.9022068357632115,2.5748865043052255E-35,0.09779316423678847]   |0.0       |Online        |\n",
       "[1.0,672.0,4.0,0.0,0.0,0.0,0.0,0.0,382.0,0.0,1.0,0.0,0.0,261.0,0.0,0.0,0.0] |3066       |20231201|[14.045399384148098,-75.03555848972617,60.99015910557805]  |[4.094019422825061E-21,8.409718356790331E-60,1.0]                 |2.0       |PAS           |\n",
       "[1.0,672.0,2.0,0.0,0.0,0.0,2.0,14.0,201.0,0.0,0.0,0.0,0.0,0.0,0.0,0.0,0.0]  |3300       |20231201|[22.60309966397966,-53.70255550928685,31.099455845307197]  |[2.041694295934313E-4,1.4820598281200468E-37,0.9997958305704064]  |2.0       |PAS           |\n",
       "[1.0,576.0,1.0,0.0,0.0,0.0,0.0,0.0,87.0,0.0,0.0,0.0,0.0,0.0,0.0,0.0,0.0]    |3374       |20231201|[37.30281735375231,-40.45419360861451,3.151376254862196]   |[0.9999999999999984,1.7004317670475022E-34,1.4730503163888897E-15]|0.0       |Online        |\n",
       "+----------------------------------------------------------------------------+-----------+--------+-----------------------------------------------------------+------------------------------------------------------------------+----------+--------------+\n",
       "only showing top 10 rows\n",
       "\n",
       "</div>"
      ]
     },
     "metadata": {
      "application/vnd.databricks.v1+output": {
       "addedWidgets": {},
       "arguments": {},
       "data": "<div class=\"ansiout\">+----------------------------------------------------------------------------+-----------+--------+-----------------------------------------------------------+------------------------------------------------------------------+----------+--------------+\n|features                                                                    |FK_Consumer|FK_Time |rawPrediction                                              |probability                                                       |prediction|predictedLabel|\n+----------------------------------------------------------------------------+-----------+--------+-----------------------------------------------------------+------------------------------------------------------------------+----------+--------------+\n|[1.0,565.0,2.0,0.0,0.0,0.0,0.0,0.0,270.0,0.0,0.0,0.0,0.0,0.0,0.0,0.0,0.0]   |374        |20231201|[-1.7311409864039902,-52.01812405240559,53.749265038809575]|[8.038329593778937E-25,1.1636076086563667E-46,1.0]                |2.0       |PAS           |\n|[1.0,142.0,3.0,0.0,0.0,0.0,0.0,0.0,347.0,0.0,0.0,0.0,1.0,0.0,0.0,65.0,0.0]  |547        |20231201|[-57.39756797361284,-32.18747078084156,89.5850387544544]   |[1.4664422417389942E-64,1.3027799356906845E-53,1.0]               |2.0       |PAS           |\n|[1.0,672.0,2.0,0.0,0.0,0.0,1.0,14.0,270.0,0.0,0.0,0.0,0.0,0.0,0.0,0.0,0.0]  |1369       |20231201|[8.261687164756037,-58.28317033991415,50.0214831751581]    |[7.310566420649564E-19,9.20209291222251E-48,1.0]                  |2.0       |PAS           |\n|[1.0,168.0,3.0,133.0,0.0,0.0,7.0,0.0,184.0,0.0,1.0,0.0,1.0,8.0,0.0,28.0,0.0]|1520       |20231201|[-31.111023046290295,-5.321838001956287,36.432861048246586]|[4.635150622643357E-30,7.347923208886296E-19,1.0]                 |2.0       |PAS           |\n|[1.0,131.0,2.0,-66.0,0.0,1.0,0.0,0.0,296.0,0.0,0.0,0.0,1.0,0.0,0.0,38.0,0.0]|2089       |20231201|[-42.840877129853325,-36.83244735293642,79.67332448278974] |[6.205235734778458E-54,2.5245628195644227E-51,1.0]                |2.0       |PAS           |\n|[1.0,211.0,3.0,0.0,0.0,0.0,0.0,0.0,285.0,0.0,1.0,0.0,0.0,144.0,0.0,0.0,0.0] |2403       |20231201|[-22.371935988357187,-37.03783840790392,59.409774396261106]|[3.038466548043482E-36,1.2981771674172002E-42,1.0]                |2.0       |PAS           |\n|[1.0,672.0,1.0,0.0,0.0,0.0,1.0,0.0,179.0,0.0,0.0,0.0,0.0,0.0,0.0,0.0,0.0]   |2861       |20231201|[27.254583480942866,-52.28717783943729,25.032594358494432] |[0.9022068357632115,2.5748865043052255E-35,0.09779316423678847]   |0.0       |Online        |\n|[1.0,672.0,4.0,0.0,0.0,0.0,0.0,0.0,382.0,0.0,1.0,0.0,0.0,261.0,0.0,0.0,0.0] |3066       |20231201|[14.045399384148098,-75.03555848972617,60.99015910557805]  |[4.094019422825061E-21,8.409718356790331E-60,1.0]                 |2.0       |PAS           |\n|[1.0,672.0,2.0,0.0,0.0,0.0,2.0,14.0,201.0,0.0,0.0,0.0,0.0,0.0,0.0,0.0,0.0]  |3300       |20231201|[22.60309966397966,-53.70255550928685,31.099455845307197]  |[2.041694295934313E-4,1.4820598281200468E-37,0.9997958305704064]  |2.0       |PAS           |\n|[1.0,576.0,1.0,0.0,0.0,0.0,0.0,0.0,87.0,0.0,0.0,0.0,0.0,0.0,0.0,0.0,0.0]    |3374       |20231201|[37.30281735375231,-40.45419360861451,3.151376254862196]   |[0.9999999999999984,1.7004317670475022E-34,1.4730503163888897E-15]|0.0       |Online        |\n+----------------------------------------------------------------------------+-----------+--------+-----------------------------------------------------------+------------------------------------------------------------------+----------+--------------+\nonly showing top 10 rows\n\n</div>",
       "datasetInfos": [],
       "metadata": {},
       "removedWidgets": [],
       "type": "html"
      }
     },
     "output_type": "display_data"
    }
   ],
   "source": [
    "\n",
    "def transDataTest(data): \n",
    "  return data.rdd.map(lambda r: [Vectors.dense(r[0:17]),r[17], r[18]]).toDF(['features', 'FK_Consumer', 'FK_Time'])\n",
    "Test =transDataTest(df_test3)\n",
    "Test_pred = model.transform(Test)\n",
    "labelConverter = IndexToString(inputCol=\"prediction\", outputCol=\"predictedLabel\", labels=labelIndexer.labels)\n",
    "Test_pred1 = labelConverter.transform(Test_pred)\n",
    "Test_pred1.show(10, False)"
   ]
  },
  {
   "cell_type": "code",
   "execution_count": 0,
   "metadata": {
    "application/vnd.databricks.v1+cell": {
     "cellMetadata": {
      "byteLimit": 2048000,
      "rowLimit": 10000
     },
     "inputWidgets": {},
     "nuid": "c85f0a6a-97c5-4b70-a2a9-1058fd5893d3",
     "showTitle": false,
     "title": ""
    }
   },
   "outputs": [
    {
     "output_type": "display_data",
     "data": {
      "text/html": [
       "<style scoped>\n",
       "  .ansiout {\n",
       "    display: block;\n",
       "    unicode-bidi: embed;\n",
       "    white-space: pre-wrap;\n",
       "    word-wrap: break-word;\n",
       "    word-break: break-all;\n",
       "    font-family: \"Menlo\", \"Monaco\", \"Consolas\", \"Ubuntu Mono\", \"Source Code Pro\", monospace;\n",
       "    font-size: 13px;\n",
       "    color: #555;\n",
       "    margin-left: 4px;\n",
       "    line-height: 19px;\n",
       "  }\n",
       "</style>\n",
       "<div class=\"ansiout\"></div>"
      ]
     },
     "metadata": {
      "application/vnd.databricks.v1+output": {
       "addedWidgets": {},
       "arguments": {},
       "data": "<div class=\"ansiout\"></div>",
       "datasetInfos": [],
       "metadata": {},
       "removedWidgets": [],
       "type": "html"
      }
     },
     "output_type": "display_data"
    }
   ],
   "source": [
    "from pyspark.ml.functions import vector_to_array\n",
    "\n",
    "df_result = Test_pred1.select(col('probability'), col('FK_Consumer').cast('int'), col('FK_Time').cast('int'), col('predictedLabel'))\n",
    "df_result\n",
    "df_servicegroup = df_test.select(col('serviceGroup'), col('FK_Consumer'), col('FK_Time'))\n",
    "df_result1 = df_result.join(df_servicegroup, [\"FK_Consumer\",\"FK_Time\"])\n",
    "df_result2 = (df_result1.withColumn(\"xs\", vector_to_array(\"probability\")))\n",
    "df_result3 = df_result2.select([\"FK_Consumer\", \"FK_Time\",\"serviceGroup\", \"predictedLabel\"]+[col(\"xs\")[i] for i in range(3)])\\\n",
    "  .withColumnRenamed(\"xs[0]\", \"Freebook\") \\\n",
    "  .withColumnRenamed(\"xs[1]\", \"PAS\") \\\n",
    "  .withColumnRenamed(\"xs[2]\", \"Online\") \n",
    "\n"
   ]
  },
  {
   "cell_type": "code",
   "execution_count": 0,
   "metadata": {
    "application/vnd.databricks.v1+cell": {
     "cellMetadata": {
      "byteLimit": 2048000,
      "rowLimit": 10000
     },
     "inputWidgets": {},
     "nuid": "1123c5ea-bbdc-4905-a74d-f6f5e613e272",
     "showTitle": false,
     "title": ""
    }
   },
   "outputs": [
    {
     "output_type": "display_data",
     "data": {
      "text/html": [
       "<style scoped>\n",
       "  .ansiout {\n",
       "    display: block;\n",
       "    unicode-bidi: embed;\n",
       "    white-space: pre-wrap;\n",
       "    word-wrap: break-word;\n",
       "    word-break: break-all;\n",
       "    font-family: \"Menlo\", \"Monaco\", \"Consolas\", \"Ubuntu Mono\", \"Source Code Pro\", monospace;\n",
       "    font-size: 13px;\n",
       "    color: #555;\n",
       "    margin-left: 4px;\n",
       "    line-height: 19px;\n",
       "  }\n",
       "</style>\n",
       "<div class=\"ansiout\"></div>"
      ]
     },
     "metadata": {
      "application/vnd.databricks.v1+output": {
       "addedWidgets": {},
       "arguments": {},
       "data": "<div class=\"ansiout\"></div>",
       "datasetInfos": [],
       "metadata": {},
       "removedWidgets": [],
       "type": "html"
      }
     },
     "output_type": "display_data"
    }
   ],
   "source": [
    "df_result3.write.format(\"delta\").mode(\"overwrite\").save(\"dbfs:/mnt/bastore/modelling/recommendations/results_from_model/results_recoom\")"
   ]
  }
 ],
 "metadata": {
  "application/vnd.databricks.v1+notebook": {
   "dashboards": [],
   "language": "python",
   "notebookMetadata": {
    "pythonIndentUnit": 2
   },
   "notebookName": "recoom_logistic regression",
   "widgets": {}
  }
 },
 "nbformat": 4,
 "nbformat_minor": 0
}
